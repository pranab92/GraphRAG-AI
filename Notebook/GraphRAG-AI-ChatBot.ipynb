{
 "cells": [
  {
   "cell_type": "code",
   "execution_count": 1,
   "id": "43371062-caea-48a7-8eef-46730ba3d3f1",
   "metadata": {},
   "outputs": [
    {
     "data": {
      "text/plain": [
       "True"
      ]
     },
     "execution_count": 1,
     "metadata": {},
     "output_type": "execute_result"
    }
   ],
   "source": [
    "from typing import List, Optional, Union\n",
    "from pydantic import BaseModel, Field\n",
    "\n",
    "from langchain_community.chat_models.openai import ChatOpenAI\n",
    "\n",
    "from langchain.graphs import Neo4jGraph\n",
    "from langchain.graphs.graph_document import (\n",
    "    Node as BaseNode,\n",
    "    Relationship as BaseRelationship,\n",
    "    GraphDocument\n",
    ")\n",
    "\n",
    "\n",
    "from typing import List, Dict, Any, Optional\n",
    "from langchain.pydantic_v1 import Field, BaseModel\n",
    "\n",
    "from langchain_openai import AzureChatOpenAI\n",
    "from langchain.prompts import ChatPromptTemplate\n",
    "from langchain.chains.openai_functions import create_structured_output_chain\n",
    "from langchain.graphs import Neo4jGraph\n",
    "from langchain.chains import GraphCypherQAChain\n",
    "from langchain.prompts.prompt import PromptTemplate\n",
    "#from langchain.chat_models import AzureChatOpenAI\n",
    "#from langchain_community.chat_models import AzureChatOpenAI\n",
    "from dotenv import load_dotenv\n",
    "\n",
    "from tqdm import tqdm\n",
    "load_dotenv()\n",
    "\n"
   ]
  },
  {
   "cell_type": "code",
   "execution_count": 2,
   "id": "26c0996c-2686-44c1-8b76-579932f67935",
   "metadata": {},
   "outputs": [
    {
     "name": "stdout",
     "output_type": "stream",
     "text": [
      "<langchain_community.graphs.neo4j_graph.Neo4jGraph object at 0x0000021E9754A250>\n"
     ]
    }
   ],
   "source": [
    "from langchain.graphs import Neo4jGraph\n",
    "import os\n",
    "\n",
    "#url = \"neo4j+s://databases.neo4j.io\"\n",
    "from langchain_community.graphs import Neo4jGraph\n",
    "\n",
    "url=os.getenv(\"NEO4J_URI\",\"bolt://localhost:7687\")\n",
    "username=os.getenv(\"NEO4J_USER\",\"neo4j\")\n",
    "password=os.getenv(\"NEO4J_PASSWORD\",\"Pk@12345678\")\n",
    "#url=os.getenv(\"NEO4J_URI\",\"neo4j+s://5292e0f3.databases.neo4j.io\")\n",
    "#username=os.getenv(\"NEO4J_USER\",\"neo4j\")\n",
    "#password=os.getenv(\"NEO4J_PASSWORD\",\"uT0_PcdAy6VlQSfXROAFOi34yVO5h_0aoO3Sm9w0TPM\")\n",
    "\n",
    "graph = Neo4jGraph(url=url, username=username, password=password)\n",
    "print(graph)"
   ]
  },
  {
   "cell_type": "code",
   "execution_count": 3,
   "id": "e8f1d283-41bf-4323-94dc-7ba6d78747e5",
   "metadata": {},
   "outputs": [],
   "source": [
    "\n",
    "\n",
    "class Property(BaseModel):\n",
    "  \"\"\"A single property consisting of key and value\"\"\"\n",
    "  key: str = Field(..., description=\"key\")\n",
    "  value: str = Field(..., description=\"value\")\n",
    "\n",
    "class Node(BaseNode):\n",
    "    properties: Optional[List[Property]] = Field(\n",
    "        None, description=\"List of node properties\")\n",
    "\n",
    "class Relationship(BaseRelationship):\n",
    "    properties: Optional[List[Property]] = Field(\n",
    "        None, description=\"List of relationship properties\"\n",
    "    )"
   ]
  },
  {
   "cell_type": "code",
   "execution_count": 4,
   "id": "3895174f-2d2d-4946-867c-bbe25b5d85aa",
   "metadata": {},
   "outputs": [],
   "source": [
    "# Define mapping functions\n",
    "def map_to_base_node(node: Node) -> BaseNode:\n",
    "    return BaseNode(\n",
    "        id=node.id,\n",
    "        type=node.type,\n",
    "        properties={prop.key: prop.value for prop in node.properties} if node.properties else {}\n",
    "    )\n",
    "\n",
    "def map_to_base_relationship(rel: Relationship) -> BaseRelationship:\n",
    "    return BaseRelationship(\n",
    "        source=BaseNode(\n",
    "            id=rel.source.id,\n",
    "            type=rel.source.type,\n",
    "            properties={prop.key: prop.value for prop in rel.source.properties} if rel.source.properties else {}\n",
    "        ),\n",
    "        target=BaseNode(\n",
    "            id=rel.target.id,\n",
    "            type=rel.target.type,\n",
    "            properties={prop.key: prop.value for prop in rel.target.properties} if rel.target.properties else {}\n",
    "        ),\n",
    "        type=rel.type,\n",
    "        properties={prop.key: prop.value for prop in rel.properties} if rel.properties else {}\n",
    "    )"
   ]
  },
  {
   "cell_type": "code",
   "execution_count": 5,
   "id": "681abdbb-dad0-49a8-abf0-3b2380593b91",
   "metadata": {},
   "outputs": [],
   "source": [
    "class KnowledgeGraph(BaseModel):\n",
    "    \"\"\"Generate a knowledge graph with entities and relationships.\"\"\"\n",
    "    nodes: List[Node] = Field(\n",
    "        ..., description=\"List of nodes in the knowledge graph\")\n",
    "    rels: List[Relationship] = Field(\n",
    "        ..., description=\"List of relationships in the knowledge graph\"\n",
    "    )"
   ]
  },
  {
   "cell_type": "markdown",
   "id": "8e5bce5c-ae0d-4692-b192-45c8b3b0a4d5",
   "metadata": {},
   "source": [
    "llm=AzureChatOpenAI(azure_deployment=os.environ['EmbeddingModelDeploymentName'],model=\"gpt-35-turbo-16k\",azure_endpoint=os.environ['OpenAIEndpoint'],api_key=os.environ['OpenAIKey'],api_version=os.environ['OpenAIVersion'])\n",
    "\n",
    "print(llm)"
   ]
  },
  {
   "cell_type": "code",
   "execution_count": 6,
   "id": "495a0849-ebfe-4506-92c8-2d9762aec8d2",
   "metadata": {},
   "outputs": [],
   "source": [
    "os.environ[\"OPENAI_API_KEY\"] = 'fe77aff6afd640f78539d8fcad008a4c'\n",
    "# OpenAI API configuration\n",
    "llm=AzureChatOpenAI(azure_deployment=os.environ['EmbeddingModelDeploymentName'],model=\"gpt-35-turbo-16k\",azure_endpoint=os.environ['OpenAIEndpoint'],api_key=os.environ['OpenAIKey'],api_version=os.environ['OpenAIVersion'])\n",
    "\n",
    "def get_extraction_chain(\n",
    "    allowed_nodes: Optional[List[str]] = None,\n",
    "    allowed_rels: Optional[List[str]] = None\n",
    "    ):\n",
    "    prompt = ChatPromptTemplate.from_messages(\n",
    "    [(\n",
    "      \"system\",\n",
    "      f\"\"\"# Knowledge Graph Instructions for GPT-4\n",
    "## 1. Overview\n",
    "You are a top-tier algorithm designed for extracting information in structured formats to build a knowledge graph.\n",
    "- **Nodes** represent entities and concepts. They're akin to Wikipedia nodes.\n",
    "- The aim is to achieve simplicity and clarity in the knowledge graph, making it accessible for a vast audience.\n",
    "## 2. Labeling Nodes\n",
    "- **Consistency**: Ensure you use basic or elementary types for node labels.\n",
    "  - For example, when you identify an entity representing a person, always label it as **\"person\"**. Avoid using more specific terms like \"mathematician\" or \"scientist\".\n",
    "- **Node IDs**: Never utilize integers as node IDs. Node IDs should be names or human-readable identifiers found in the text.\n",
    "{'- **Allowed Node Labels:**' + \", \".join(allowed_nodes) if allowed_nodes else \"\"}\n",
    "{'- **Allowed Relationship Types**:' + \", \".join(allowed_rels) if allowed_rels else \"\"}\n",
    "## 3. Handling Numerical Data and Dates\n",
    "- Numerical data, like age or other related information, should be incorporated as attributes or properties of the respective nodes.\n",
    "- **No Separate Nodes for Dates/Numbers**: Do not create separate nodes for dates or numerical values. Always attach them as attributes or properties of nodes.\n",
    "- **Property Format**: Properties must be in a key-value format.\n",
    "- **Quotation Marks**: Never use escaped single or double quotes within property values.\n",
    "- **Naming Convention**: Use camelCase for property keys, e.g., `birthDate`.\n",
    "## 4. Coreference Resolution\n",
    "- **Maintain Entity Consistency**: When extracting entities, it's vital to ensure consistency.\n",
    "If an entity, such as \"John Doe\", is mentioned multiple times in the text but is referred to by different names or pronouns (e.g., \"Joe\", \"he\"), \n",
    "always use the most complete identifier for that entity throughout the knowledge graph. In this example, use \"John Doe\" as the entity ID.  \n",
    "Remember, the knowledge graph should be coherent and easily understandable, so maintaining consistency in entity references is crucial. \n",
    "## 5. Strict Compliance\n",
    "Adhere to the rules strictly. Non-compliance will result in termination.\"\"\"),\n",
    "        (\"human\", \"Use the given format to extract information from the following input: {input}\"),\n",
    "        (\"human\", \"Tip: Make sure to answer in the correct format\"),\n",
    "    ])\n",
    "    return create_structured_output_chain(KnowledgeGraph, llm, prompt, verbose=False)"
   ]
  },
  {
   "cell_type": "code",
   "execution_count": 7,
   "id": "9deaaeae-106c-4d21-95ed-37a4c59cf5d4",
   "metadata": {},
   "outputs": [],
   "source": [
    "from langchain_core.documents import Document\n",
    "def extract_and_store_graph(\n",
    "    document: Document,\n",
    "    nodes:Optional[List[str]] = None,\n",
    "    rels:Optional[List[str]]=None) -> None:\n",
    "    # Extract graph data using OpenAI functions\n",
    "    extract_chain = get_extraction_chain(nodes, rels)\n",
    "    data = extract_chain.run(document.page_content)\n",
    "    print(data.nodes)\n",
    "    print(data.rels)\n",
    "    # Construct a graph document\n",
    "    graph_document = GraphDocument(\n",
    "      nodes = [map_to_base_node(node) for node in data.nodes],\n",
    "      relationships = [map_to_base_relationship(rel) for rel in data.rels],\n",
    "      source = document\n",
    "    )\n",
    "    # Store information into a graph\n",
    "    graph.add_graph_documents([graph_document])"
   ]
  },
  {
   "cell_type": "code",
   "execution_count": 8,
   "id": "ea1b2754-0710-4319-8e82-72a98dda968f",
   "metadata": {},
   "outputs": [
    {
     "name": "stdout",
     "output_type": "stream",
     "text": [
      "<langchain_community.graphs.neo4j_graph.Neo4jGraph object at 0x0000021E9754A250>\n"
     ]
    }
   ],
   "source": [
    "print(graph)"
   ]
  },
  {
   "cell_type": "code",
   "execution_count": 13,
   "id": "79bb2f09-e5ec-42c0-b21d-141cb9c201a5",
   "metadata": {},
   "outputs": [
    {
     "name": "stdout",
     "output_type": "stream",
     "text": [
      "1\n"
     ]
    }
   ],
   "source": [
    "from langchain.document_loaders import WikipediaLoader\n",
    "from langchain.text_splitter import TokenTextSplitter\n",
    "\n",
    "# Read the wikipedia article\n",
    "#raw_documents = WikipediaLoader(query=\"Walt Disney\").load()\n",
    "raw_documents = WikipediaLoader(query=\"Virat Kohli\").load()\n",
    "# Define chunking strategy\n",
    "text_splitter = TokenTextSplitter(chunk_size=1000, chunk_overlap=24)\n",
    "\n",
    "# Only take the first the raw_documents\n",
    "documents1 = text_splitter.split_documents(raw_documents[:])\n",
    "print(len(documents))"
   ]
  },
  {
   "cell_type": "code",
   "execution_count": 15,
   "id": "763024cb-8a30-48d0-977b-7390009f1e42",
   "metadata": {},
   "outputs": [
    {
     "name": "stdout",
     "output_type": "stream",
     "text": [
      "25\n",
      "25\n"
     ]
    }
   ],
   "source": [
    "print(len(documents1))\n",
    "documents =documents1 #text_splitter.split_documents(raw_documents[:1])\n",
    "print(len(documents))"
   ]
  },
  {
   "cell_type": "code",
   "execution_count": 16,
   "id": "41a70d18-1f11-4f85-830a-baef43405e09",
   "metadata": {},
   "outputs": [
    {
     "name": "stderr",
     "output_type": "stream",
     "text": [
      "  0%|                                                                                           | 0/25 [00:00<?, ?it/s]"
     ]
    },
    {
     "name": "stdout",
     "output_type": "stream",
     "text": [
      "[Node(id='Virat Kohli', type='person', properties=[Property(key='name', value='Virat Kohli'), Property(key='birthDate', value='5 November 1988')]), Node(id='Indian national cricket team', type='team', properties=[Property(key='name', value='Indian national cricket team')]), Node(id='Royal Challengers Bengaluru', type='team', properties=[Property(key='name', value='Royal Challengers Bengaluru')]), Node(id='Delhi', type='team', properties=[Property(key='name', value='Delhi')]), Node(id='IPL', type='league', properties=[Property(key='name', value='IPL'), Property(key='team', value='Royal Challengers Bengaluru')]), Node(id='T20I', type='format', properties=[Property(key='name', value='T20I')]), Node(id='ODI', type='format', properties=[Property(key='name', value='ODI')]), Node(id='ICC Test mace', type='trophy', properties=[Property(key='name', value='ICC Test mace')]), Node(id='2011 Cricket World Cup', type='tournament', properties=[Property(key='name', value='2011 Cricket World Cup'), Property(key='winner', value='Indian national cricket team')]), Node(id='2013 ICC Champions Trophy', type='tournament', properties=[Property(key='name', value='2013 ICC Champions Trophy'), Property(key='winner', value='Indian national cricket team')]), Node(id='ICC rankings', type='ranking', properties=[Property(key='name', value='ICC rankings')]), Node(id='Test', type='format', properties=[Property(key='name', value='Test')]), Node(id='20,000 runs', type='record', properties=[Property(key='name', value='20,000 runs')]), Node(id='International Cricket Council', type='organization', properties=[Property(key='name', value='International Cricket Council')]), Node(id='male cricketer of the decade', type='award', properties=[Property(key='name', value='male cricketer of the decade'), Property(key='organization', value='International Cricket Council')]), Node(id='ICC ODI Player of the Year', type='award', properties=[Property(key='name', value='ICC ODI Player of the Year'), Property(key='year', value='2012'), Property(key='year', value='2017'), Property(key='year', value='2018'), Property(key='year', value='2023')]), Node(id='Sir Garfield Sobers Trophy', type='award', properties=[Property(key='name', value='Sir Garfield Sobers Trophy'), Property(key='organization', value='International Cricket Council'), Property(key='year', value='2017'), Property(key='year', value='2018')]), Node(id='ICC Cricketer of the Year', type='award', properties=[Property(key='name', value='ICC Cricketer of the Year'), Property(key='organization', value='International Cricket Council')]), Node(id='Wisden Leading Cricketer in the World', type='award', properties=[Property(key='name', value='Wisden Leading Cricketer in the World'), Property(key='year', value='2016'), Property(key='year', value='2017'), Property(key='year', value='2018')]), Node(id='Arjuna Award', type='award', properties=[Property(key='name', value='Arjuna Award'), Property(key='year', value='2013')]), Node(id='Padma Shri', type='award', properties=[Property(key='name', value='Padma Shri'), Property(key='year', value='2017')]), Node(id='Khel Ratna award', type='award', properties=[Property(key='name', value='Khel Ratna award'), Property(key='year', value='2018')]), Node(id='Time magazine', type='organization', properties=[Property(key='name', value='Time magazine')])]\n",
      "[Relationship(source=Node(id='Virat Kohli', type='person'), target=Node(id='Indian national cricket team', type='team'), type='plays for'), Relationship(source=Node(id='Virat Kohli', type='person'), target=Node(id='Royal Challengers Bengaluru', type='team'), type='plays for'), Relationship(source=Node(id='Virat Kohli', type='person'), target=Node(id='Delhi', type='team'), type='plays for'), Relationship(source=Node(id='Virat Kohli', type='person'), target=Node(id='IPL', type='league'), type='plays in'), Relationship(source=Node(id='Virat Kohli', type='person'), target=Node(id='T20I', type='format'), type='plays in'), Relationship(source=Node(id='Virat Kohli', type='person'), target=Node(id='ODI', type='format'), type='ranks in'), Relationship(source=Node(id='Virat Kohli', type='person'), target=Node(id='ICC Test mace', type='trophy'), type='won'), Relationship(source=Node(id='Virat Kohli', type='person'), target=Node(id='2011 Cricket World Cup', type='tournament'), type='won'), Relationship(source=Node(id='Virat Kohli', type='person'), target=Node(id='2013 ICC Champions Trophy', type='tournament'), type='won'), Relationship(source=Node(id='Virat Kohli', type='person'), target=Node(id='ICC rankings', type='ranking'), type='ranked number one in'), Relationship(source=Node(id='Virat Kohli', type='person'), target=Node(id='Test', type='format'), type='ranks in'), Relationship(source=Node(id='Virat Kohli', type='person'), target=Node(id='20,000 runs', type='record'), type='holds'), Relationship(source=Node(id='International Cricket Council', type='organization'), target=Node(id='Virat Kohli', type='person'), type='named him'), Relationship(source=Node(id='Virat Kohli', type='person'), target=Node(id='male cricketer of the decade', type='award'), type='received'), Relationship(source=Node(id='Virat Kohli', type='person'), target=Node(id='ICC ODI Player of the Year', type='award'), type='received'), Relationship(source=Node(id='Virat Kohli', type='person'), target=Node(id='Sir Garfield Sobers Trophy', type='award'), type='received'), Relationship(source=Node(id='Virat Kohli', type='person'), target=Node(id='ICC Cricketer of the Year', type='award'), type='received'), Relationship(source=Node(id='Virat Kohli', type='person'), target=Node(id='Wisden Leading Cricketer in the World', type='award'), type='received'), Relationship(source=Node(id='Virat Kohli', type='person'), target=Node(id='Arjuna Award', type='award'), type='received'), Relationship(source=Node(id='Virat Kohli', type='person'), target=Node(id='Padma Shri', type='award'), type='received'), Relationship(source=Node(id='Virat Kohli', type='person'), target=Node(id='Khel Ratna award', type='award'), type='received'), Relationship(source=Node(id='Time magazine', type='organization'), target=Node(id='Virat Kohli', type='person'), type='included him in')]\n"
     ]
    },
    {
     "name": "stderr",
     "output_type": "stream",
     "text": [
      "  8%|██████▋                                                                            | 2/25 [00:42<07:07, 18.60s/it]"
     ]
    },
    {
     "name": "stdout",
     "output_type": "stream",
     "text": [
      "[Node(id='Virat Kohli', type='person', properties=[Property(key='seniorCareer', value='List A cricket, playing against Services in the Ranji One-Day Trophy'), Property(key='internationalCareer', value='representing India since included in the ODl squad for the tour of Sri Lanka'), Property(key='achievements', value='won 2011 Cricket World Cup, won 2013 ICC Champions Trophy, won several Asia Cups'), Property(key='youthCareer', value='started in October 2002 at Luhnu cricket ground, scored 15 runs in debut match, first half-century against Haryana'), Property(key='domesticCareer', value='played for Delhi, highest run-scorer in 2002 season with 172 runs, captain of Under-15 team in 2003-04 season'), Property(key='firstClassDebut', value='made debut on 23 November 2006 against Tamil Nadu in Ranji Trophy'), Property(key='emotionalInnings', value=\"scored 90 runs despite father's passing away during the match\"), Property(key='leagueCricket', value='played for Royal Challengers Bengaluru since 2008')])]\n",
      "[]\n",
      "[Node(id='Virat Kohli', type='person', properties=[Property(key='nationality', value='Indian'), Property(key='profession', value='cricketer')]), Node(id='Test cricket', type='format'), Node(id='One Day Internationals (ODIs)', type='format'), Node(id='Twenty20 Internationals (T20Is)', type='format'), Node(id='Sri Lanka', type='country'), Node(id='Eden Gardens, Kolkata', type='stadium'), Node(id='Australia', type='country'), Node(id='Dean Jones', type='cricketer'), Node(id='Pakistan', type='country'), Node(id='Asia Cup', type='tournament'), Node(id='West Indies', type='country'), Node(id='2013 Triangular Series', type='tournament'), Node(id='Australia', type='country'), Node(id='India', type='country'), Node(id='New Zealand', type='country'), Node(id='Cricket World Cup', type='tournament'), Node(id='Border–Gavaskar Trophy', type='tournament'), Node(id='captain', type='role'), Node(id='double centuries', type='achievement'), Node(id='calendar year', type='time period'), Node(id='Shubman Gill', type='cricketer'), Node(id='South Africa', type='country'), Node(id='Bangladesh', type='country'), Node(id='Afghanistan', type='country'), Node(id='Australia', type='country')]\n",
      "[Relationship(source=Node(id='Virat Kohli', type='person'), target=Node(id='Indian cricketer', type='profession'), type='is'), Relationship(source=Node(id='Virat Kohli', type='person'), target=Node(id='top order batsman', type='profession'), type='is'), Relationship(source=Node(id='Virat Kohli', type='person'), target=Node(id='80', type='centuries'), type='has made'), Relationship(source=Node(id='Virat Kohli', type='person'), target=Node(id='29', type='Test cricket'), type='has made'), Relationship(source=Node(id='Virat Kohli', type='person'), target=Node(id='50', type='One Day Internationals (ODIs)'), type='has made'), Relationship(source=Node(id='Virat Kohli', type='person'), target=Node(id='1', type='Twenty20 Internationals (T20Is)'), type='has made'), Relationship(source=Node(id='Kohli', type='person'), target=Node(id='Sri Lanka', type='country'), type='made his ODI debut against'), Relationship(source=Node(id='Kohli', type='person'), target=Node(id='August 2008', type='birthDate'), type='ODI debut date'), Relationship(source=Node(id='Kohli', type='person'), target=Node(id='August 2008', type='property'), type='ODI debut date'), Relationship(source=Node(id='Kohli', type='person'), target=Node(id='107', type='score'), type='made his first ODI century'), Relationship(source=Node(id='Kohli', type='person'), target=Node(id='same team', type='property'), type='made his first ODI century'), Relationship(source=Node(id='Kohli', type='person'), target=Node(id='Eden Gardens, Kolkata', type='stadium'), type='made his first ODI century'), Relationship(source=Node(id='Kohli', type='person'), target=Node(id='86-ball 133 not out', type='score'), type='led India to the second highest run-chase'), Relationship(source=Node(id='Kohli', type='person'), target=Node(id='Australia', type='country'), type='led India to the second highest run-chase'), Relationship(source=Node(id='Dean Jones', type='cricketer'), target=Node(id='Kohli', type='person'), type='described the innings as'), Relationship(source=Node(id='Dean Jones', type='cricketer'), target=Node(id='One of the greatest ODI knocks of all time!', type='property'), type='described the innings as'), Relationship(source=Node(id='Kohli', type='person'), target=Node(id='183', type='score'), type='highest score'), Relationship(source=Node(id='Kohli', type='person'), target=Node(id='Pakistan', type='country'), type='highest score'), Relationship(source=Node(id='Kohli', type='person'), target=Node(id='2012 Asia Cup', type='tournament'), type='highest score'), Relationship(source=Node(id='Kohli', type='person'), target=Node(id='330', type='target'), type='chased a target of'), Relationship(source=Node(id='India', type='country'), target=Node(id='Pakistan', type='country'), type='chased a target of'), Relationship(source=Node(id='Kohli', type='person'), target=Node(id='man of the match', type='property'), type='adjudged'), Relationship(source=Node(id='Kohli', type='person'), target=Node(id='West Indies', type='country'), type='made his first century as a captain while playing against'), Relationship(source=Node(id='Kohli', type='person'), target=Node(id='2013 Triangular Series', type='tournament'), type='made his first century as a captain while playing in the'), Relationship(source=Node(id='Kohli', type='person'), target=Node(id='Australia', type='country'), type='made two centuries in successful run-chases in the bilateral series against'), Relationship(source=Node(id='Kohli', type='person'), target=Node(id='October 2013', type='property'), type='made two centuries in successful run-chases in the bilateral series against'), Relationship(source=Node(id='Kohli', type='person'), target=Node(id='100 not out', type='score'), type='made two centuries in successful run-chases in the bilateral series against'), Relationship(source=Node(id='Kohli', type='person'), target=Node(id='52', type='property'), type='made two centuries in successful run-chases in the bilateral series against'), Relationship(source=Node(id='Kohli', type='person'), target=Node(id='fastest ODI century by an Indian', type='property'), type='made two centuries in successful run-chases in the bilateral series against'), Relationship(source=Node(id='Kohli', type='person'), target=Node(id='61', type='property'), type='made two centuries in successful run-chases in the bilateral series against'), Relationship(source=Node(id='Kohli', type='person'), target=Node(id='third-fastest by an Indian', type='property'), type='made two centuries in successful run-chases in the bilateral series against'), Relationship(source=Node(id='Kohli', type='person'), target=Node(id='November 2023', type='property'), type='has the most ODI centuries of any player as of'), Relationship(source=Node(id='Kohli', type='person'), target=Node(id='50th ODI century', type='property'), type='has the most ODI centuries of any player after scoring his'), Relationship(source=Node(id='Kohli', type='person'), target=Node(id='2023 Cricket World Cup', type='tournament'), type='has the most ODI centuries of any player after scoring his'), Relationship(source=Node(id='Kohli', type='person'), target=Node(id='New Zealand', type='country'), type='has the most ODI centuries of any player after scoring his'), Relationship(source=Node(id='Kohli', type='person'), target=Node(id='117', type='score'), type='has the most ODI centuries of any player after scoring his'), Relationship(source=Node(id='Kohli', type='person'), target=Node(id='second overall on the list of players who have scored the most centuries in international cricket', type='property'), type='has the most ODI centuries of any player after scoring his'), Relationship(source=Node(id='Kohli', type='person'), target=Node(id='West Indies', type='country'), type='made his Test debut against'), Relationship(source=Node(id='Kohli', type='person'), target=Node(id='2011', type='birthDate'), type='Test debut date'), Relationship(source=Node(id='Kohli', type='person'), target=Node(id='Australia', type='country'), type='Test debut date'), Relationship(source=Node(id='Kohli', type='person'), target=Node(id='Australian tour in January 2012', type='property'), type='scored his first Test century during the'), Relationship(source=Node(id='Kohli', type='person'), target=Node(id='the first Test of the 2014–15 Border–Gavaskar Trophy', type='property'), type='became the fourth Indian player to score centuries in both innings of a Test match in'), Relationship(source=Node(id='Kohli', type='person'), target=Node(id='115', type='score'), type='became the fourth Indian player to score centuries in both innings of a Test match after making'), Relationship(source=Node(id='Kohli', type='person'), target=Node(id='141', type='score'), type='became the fourth Indian player to score centuries in both innings of a Test match after making'), Relationship(source=Node(id='Kohli', type='person'), target=Node(id='captain', type='role'), type='appointed as the captain of the Test team during the series'), Relationship(source=Node(id='Kohli', type='person'), target=Node(id='first player to score centuries in each of his first three Test innings as captain', type='property'), type='appointed as the captain of the Test team during the series'), Relationship(source=Node(id='Kohli', type='person'), target=Node(id='2016', type='calendar year'), type='became the fifth player to score three or more double centuries in a'), Relationship(source=Node(id='Kohli', type='person'), target=Node(id='four double centuries in consecutive Test series', type='property'), type='repeated the feat and also became the first batsman to score'), Relationship(source=Node(id='Kohli', type='person'), target=Node(id='seven double centuries', type='property'), type='has scored'), Relationship(source=Node(id='Kohli', type='person'), target=Node(id='2017', type='calendar year'), type='became the first captain to score ten centuries in a'), Relationship(source=Node(id='Kohli', type='person'), target=Node(id='eleven centuries', type='property'), type='scored'), Relationship(source=Node(id='Kohli', type='person'), target=Node(id='Sachin Tendulkar', type='person'), type='second-most in a calendar year to'), Relationship(source=Node(id='Kohli', type='person'), target=Node(id='2019', type='calendar year'), type='scored seven centuries which included five ODI-centuries in'), Relationship(source=Node(id='Kohli', type='person'), target=Node(id='South Africa', type='country'), type='scored his highest score in Test-cricket against'), Relationship(source=Node(id='Kohli', type='person'), target=Node(id='late 2022', type='property'), type=\"scored a hundred against Bangladesh in the third ODI to overtake Ricky Pointing's record of 71 centuries scored in international cricket\"), Relationship(source=Node(id='Kohli', type='person'), target=Node(id='Afghanistan', type='country'), type='had a three-year century drought until September 2022, when he scored his maiden T20I hundred against'), Relationship(source=Node(id='Kohli', type='person'), target=Node(id='1,021 days', type='property'), type='had a three-year century drought until September 2022, when he scored his maiden T20I hundred'), Relationship(source=Node(id='Kohli', type='person'), target=Node(id='122*', type='score'), type='had a three-year century drought until September 2022, when he scored his maiden T20I hundred'), Relationship(source=Node(id='Shubman Gill', type='cricketer'), target=Node(id='126*', type='score'), type='had a three-year century drought until September 2022, when he scored his maiden T20I hundred'), Relationship(source=Node(id='Kohli', type='person'), target=Node(id='March 2023', type='property'), type='ended his 1,204 day-long Test century drought when he scored his 28th Test century against Australia in the first innings of the fourth test'), Relationship(source=Node(id='Kohli', type='person'), target=Node(id='28th Test century', type='property'), type='ended his 1,204 day-long Test century drought when he scored his'), Relationship(source=Node(id='Kohli', type='person'), target=Node(id='Australia', type='country'), type='ended his 1,204 day-long Test century drought when he scored his'), Relationship(source=Node(id='Kohli', type='person'), target=Node(id='186', type='score'), type='ended his 1,204 day-long Test century drought when he scored his')]\n"
     ]
    },
    {
     "name": "stderr",
     "output_type": "stream",
     "text": [
      " 12%|█████████▉                                                                         | 3/25 [01:47<14:38, 39.95s/it]"
     ]
    },
    {
     "name": "stdout",
     "output_type": "stream",
     "text": [
      "[Node(id='RCB', type='team', properties=[Property(key='name', value='Royal Challengers Bangalore'), Property(key='officialName', value='Royal Challengers Bengaluru'), Property(key='founded', value='2008'), Property(key='homeGround', value='M. Chinnaswamy Stadium'), Property(key='value', value='$69.8 million'), Property(key='captain', value='Faf du Plessis')]), Node(id='IPL', type='tournament', properties=[Property(key='name', value='Indian Premier League')]), Node(id='United Spirits', type='company', properties=[Property(key='name', value='United Spirits')]), Node(id='Royal Challenge', type='liquorBrand', properties=[Property(key='name', value='Royal Challenge')]), Node(id='M. Chinnaswamy Stadium', type='stadium', properties=[Property(key='name', value='M. Chinnaswamy Stadium'), Property(key='location', value='Bangalore, Karnataka')]), Node(id='Faf du Plessis', type='person', properties=[Property(key='name', value='Faf du Plessis'), Property(key='nationality', value='South African')]), Node(id='Kolkata Knight Riders', type='team', properties=[Property(key='name', value='Kolkata Knight Riders')]), Node(id='Sunrisers Hyderabad', type='team', properties=[Property(key='name', value='Sunrisers Hyderabad')]), Node(id='Franchise history', type='event', properties=[Property(key='name', value='Franchise history')]), Node(id='Board of Control for Cricket in India', type='organization', properties=[Property(key='name', value='Board of Control for Cricket in India')]), Node(id='Vijay Mallya', type='person', properties=[Property(key='name', value='Vijay Mallya'), Property(key='nationality', value='Indian')]), Node(id='Duff & Phelps', type='company', properties=[Property(key='name', value='Duff & Phelps')]), Node(id='Team history', type='event', properties=[Property(key='name', value='Team history')]), Node(id='Rahul Dravid', type='person', properties=[Property(key='name', value='Rahul Dravid'), Property(key='nationality', value='Indian')]), Node(id='Jacques Kallis', type='person', properties=[Property(key='name', value='Jacques Kallis'), Property(key='nationality', value='South African')]), Node(id='Anil Kumble', type='person', properties=[Property(key='name', value='Anil Kumble'), Property(key='nationality', value='Indian')]), Node(id='Zaheer Khan', type='person', properties=[Property(key='name', value='Zaheer Khan'), Property(key='nationality', value='Indian')]), Node(id='Mark Boucher', type='person', properties=[Property(key='name', value='Mark Boucher'), Property(key='nationality', value='South African')]), Node(id='Dale Steyn', type='person', properties=[Property(key='name', value='Dale Steyn'), Property(key='nationality', value='South African')]), Node(id='Cameron White', type='person', properties=[Property(key='name', value='Cameron White'), Property(key='nationality', value='Australian')]), Node(id='Ross Taylor', type='person', properties=[Property(key='name', value='Ross Taylor'), Property(key='nationality', value='New Zealander')]), Node(id='Misbah-ul-Haq', type='person', properties=[Property(key='name', value='Misbah-ul-Haq'), Property(key='nationality', value='Pakistani')]), Node(id='Virat Kohli', type='person', properties=[Property(key='name', value='Virat Kohli'), Property(key='nationality', value='Indian')]), Node(id='Charu Sharma', type='person', properties=[Property(key='name', value='Charu Sharma'), Property(key='nationality', value='Indian')]), Node(id='Brijesh Patel', type='person', properties=[Property(key='name', value='Brijesh Patel'), Property(key='nationality', value='Indian')]), Node(id='Martin Crowe', type='person', properties=[Property(key='name', value='Martin Crowe'), Property(key='nationality', value='New Zealander')]), Node(id='Kevin Pietersen', type='person', properties=[Property(key='name', value='Kevin Pietersen'), Property(key='nationality', value='English')]), Node(id='Andrew Flintoff', type='person', properties=[Property(key='name', value='Andrew Flintoff'), Property(key='nationality', value='English')]), Node(id='Robin Uthappa', type='person', properties=[Property(key='name', value='Robin Uthappa'), Property(key='nationality', value='Indian')]), Node(id='Manish Pandey', type='person', properties=[Property(key='name', value='Manish Pandey'), Property(key='nationality', value='Indian')]), Node(id='Super Kings', type='team', properties=[Property(key='name', value='Chennai Super Kings')])]\n",
      "[Relationship(source=Node(id='RCB', type='team'), target=Node(id='IPL', type='tournament'), type='participatesIn'), Relationship(source=Node(id='RCB', type='team'), target=Node(id='United Spirits', type='company'), type='ownedBy'), Relationship(source=Node(id='RCB', type='team'), target=Node(id='Royal Challenge', type='liquorBrand'), type='namedAfter'), Relationship(source=Node(id='RCB', type='team'), target=Node(id='M. Chinnaswamy Stadium', type='stadium'), type='homeGround'), Relationship(source=Node(id='RCB', type='team'), target=Node(id='Faf du Plessis', type='person'), type='captainedBy'), Relationship(source=Node(id='RCB', type='team'), target=Node(id='Kolkata Knight Riders', type='team'), type='holdsRecord'), Relationship(source=Node(id='RCB', type='team'), target=Node(id='Sunrisers Hyderabad', type='team'), type='holdsRecord'), Relationship(source=Node(id='Franchise history', type='event'), target=Node(id='Board of Control for Cricket in India', type='organization'), type='establishedBy'), Relationship(source=Node(id='Franchise history', type='event'), target=Node(id='RCB', type='team'), type='renamedTo'), Relationship(source=Node(id='RCB', type='team'), target=Node(id='Duff & Phelps', type='company'), type='valuedAt'), Relationship(source=Node(id='Team history', type='event'), target=Node(id='RCB', type='team'), type='partOf'), Relationship(source=Node(id='RCB', type='team'), target=Node(id='Rahul Dravid', type='person'), type='iconPlayer'), Relationship(source=Node(id='RCB', type='team'), target=Node(id='Jacques Kallis', type='person'), type='player'), Relationship(source=Node(id='RCB', type='team'), target=Node(id='Anil Kumble', type='person'), type='player'), Relationship(source=Node(id='RCB', type='team'), target=Node(id='Zaheer Khan', type='person'), type='player'), Relationship(source=Node(id='RCB', type='team'), target=Node(id='Mark Boucher', type='person'), type='player'), Relationship(source=Node(id='RCB', type='team'), target=Node(id='Dale Steyn', type='person'), type='player'), Relationship(source=Node(id='RCB', type='team'), target=Node(id='Cameron White', type='person'), type='player'), Relationship(source=Node(id='RCB', type='team'), target=Node(id='Ross Taylor', type='person'), type='player'), Relationship(source=Node(id='RCB', type='team'), target=Node(id='Misbah-ul-Haq', type='person'), type='player'), Relationship(source=Node(id='RCB', type='team'), target=Node(id='Virat Kohli', type='person'), type='player'), Relationship(source=Node(id='RCB', type='team'), target=Node(id='Charu Sharma', type='person'), type='CEO'), Relationship(source=Node(id='RCB', type='team'), target=Node(id='Brijesh Patel', type='person'), type='CEO'), Relationship(source=Node(id='RCB', type='team'), target=Node(id='Martin Crowe', type='person'), type='chiefCricketingOfficer'), Relationship(source=Node(id='RCB', type='team'), target=Node(id='Kevin Pietersen', type='person'), type='player'), Relationship(source=Node(id='RCB', type='team'), target=Node(id='Andrew Flintoff', type='person'), type='player'), Relationship(source=Node(id='RCB', type='team'), target=Node(id='Robin Uthappa', type='person'), type='player'), Relationship(source=Node(id='RCB', type='team'), target=Node(id='Manish Pandey', type='person'), type='player'), Relationship(source=Node(id='RCB', type='team'), target=Node(id='Super Kings', type='team'), type='playedAgainst')]\n"
     ]
    },
    {
     "name": "stderr",
     "output_type": "stream",
     "text": [
      " 16%|█████████████▎                                                                     | 4/25 [02:23<13:26, 38.41s/it]"
     ]
    },
    {
     "name": "stdout",
     "output_type": "stream",
     "text": [
      "[Node(id='Anushka Sharma', type='person', properties=[Property(key='name', value='Anushka Sharma'), Property(key='pronunciation', value='[əˈnʊʃka ˈʃərma]'), Property(key='birthDate', value='1 May 1988'), Property(key='nationality', value='Indian'), Property(key='occupation', value='actress'), Property(key='awards', value='Filmfare Award'), Property(key='highestPaidActress', value='2018'), Property(key='featuredInForbes', value='2012-2018')]), Node(id='Ayodhya', type='place', properties=[Property(key='name', value='Ayodhya')]), Node(id='Bangalore', type='place', properties=[Property(key='name', value='Bangalore')]), Node(id='Wendell Rodricks', type='person', properties=[Property(key='name', value='Wendell Rodricks'), Property(key='occupation', value='fashion designer')]), Node(id='Mumbai', type='place', properties=[Property(key='name', value='Mumbai')]), Node(id='Shah Rukh Khan', type='person', properties=[Property(key='name', value='Shah Rukh Khan'), Property(key='occupation', value='actor')]), Node(id='Rab Ne Bana Di Jodi', type='film', properties=[Property(key='name', value='Rab Ne Bana Di Jodi'), Property(key='genre', value='romantic'), Property(key='year', value='2008'), Property(key='grossing', value='top-grossing')]), Node(id='Yash Raj Films', type='company', properties=[Property(key='name', value='Yash Raj Films')]), Node(id='Band Baaja Baaraat', type='film', properties=[Property(key='name', value='Band Baaja Baaraat'), Property(key='genre', value='romantic'), Property(key='year', value='2010')]), Node(id='Jab Tak Hai Jaan', type='film', properties=[Property(key='name', value='Jab Tak Hai Jaan'), Property(key='genre', value='romantic'), Property(key='year', value='2012')]), Node(id='Filmfare Award', type='award', properties=[Property(key='name', value='Filmfare Award'), Property(key='category', value='Best Supporting Actress'), Property(key='year', value='2012')]), Node(id='NH10', type='film', properties=[Property(key='name', value='NH10'), Property(key='genre', value='crime thriller'), Property(key='year', value='2015')]), Node(id='Dil Dhadakne Do', type='film', properties=[Property(key='name', value='Dil Dhadakne Do'), Property(key='genre', value='drama'), Property(key='year', value='2015')]), Node(id='Ae Dil Hai Mushkil', type='film', properties=[Property(key='name', value='Ae Dil Hai Mushkil'), Property(key='genre', value='drama'), Property(key='year', value='2016')]), Node(id='Sui Dhaaga', type='film', properties=[Property(key='name', value='Sui Dhaaga'), Property(key='genre', value='drama'), Property(key='year', value='2018')]), Node(id='Sultan', type='film', properties=[Property(key='name', value='Sultan'), Property(key='genre', value='sports drama'), Property(key='year', value='2016'), Property(key='grossing', value='highest-grossing')]), Node(id='PK', type='film', properties=[Property(key='name', value='PK'), Property(key='genre', value='drama'), Property(key='year', value='2014'), Property(key='grossing', value='highest-grossing')]), Node(id='Sanju', type='film', properties=[Property(key='name', value='Sanju'), Property(key='genre', value='drama'), Property(key='year', value='2018'), Property(key='grossing', value='highest-grossing')]), Node(id='Zero', type='film', properties=[Property(key='name', value='Zero'), Property(key='year', value='2018'), Property(key='reception', value='poorly received')]), Node(id='Clean Slate Filmz', type='company', properties=[Property(key='name', value='Clean Slate Filmz'), Property(key='co-founder', value='Anushka Sharma')]), Node(id='NH10 (film)', type='film', properties=[Property(key='name', value='NH10'), Property(key='year', value='2015'), Property(key='producedBy', value='Clean Slate Filmz')]), Node(id='Paatal Lok', type='web series', properties=[Property(key='name', value='Paatal Lok'), Property(key='year', value='2020'), Property(key='producedBy', value='Clean Slate Filmz')]), Node(id='Nush', type='clothing line', properties=[Property(key='name', value='Nush'), Property(key='designedBy', value='Anushka Sharma')]), Node(id='Virat Kohli', type='person', properties=[Property(key='name', value='Virat Kohli'), Property(key='occupation', value='cricketer')])]\n",
      "[Relationship(source=Node(id='Anushka Sharma', type='person'), target=Node(id='Ayodhya', type='place'), type='bornIn'), Relationship(source=Node(id='Anushka Sharma', type='person'), target=Node(id='Bangalore', type='place'), type='raisedIn'), Relationship(source=Node(id='Anushka Sharma', type='person'), target=Node(id='Wendell Rodricks', type='person'), type='workedWith'), Relationship(source=Node(id='Anushka Sharma', type='person'), target=Node(id='Mumbai', type='place'), type='movedTo'), Relationship(source=Node(id='Anushka Sharma', type='person'), target=Node(id='Shah Rukh Khan', type='person'), type='actedOpposite'), Relationship(source=Node(id='Anushka Sharma', type='person'), target=Node(id='Rab Ne Bana Di Jodi', type='film'), type='actedIn'), Relationship(source=Node(id='Anushka Sharma', type='person'), target=Node(id='Yash Raj Films', type='company'), type='workedWith'), Relationship(source=Node(id='Anushka Sharma', type='person'), target=Node(id='Band Baaja Baaraat', type='film'), type='actedIn'), Relationship(source=Node(id='Anushka Sharma', type='person'), target=Node(id='Jab Tak Hai Jaan', type='film'), type='actedIn'), Relationship(source=Node(id='Anushka Sharma', type='person'), target=Node(id='Filmfare Award', type='award'), type='receivedAward'), Relationship(source=Node(id='Anushka Sharma', type='person'), target=Node(id='NH10', type='film'), type='actedIn'), Relationship(source=Node(id='Anushka Sharma', type='person'), target=Node(id='Dil Dhadakne Do', type='film'), type='actedIn'), Relationship(source=Node(id='Anushka Sharma', type='person'), target=Node(id='Ae Dil Hai Mushkil', type='film'), type='actedIn'), Relationship(source=Node(id='Anushka Sharma', type='person'), target=Node(id='Sui Dhaaga', type='film'), type='actedIn'), Relationship(source=Node(id='Anushka Sharma', type='person'), target=Node(id='Sultan', type='film'), type='actedIn'), Relationship(source=Node(id='Anushka Sharma', type='person'), target=Node(id='PK', type='film'), type='actedIn'), Relationship(source=Node(id='Anushka Sharma', type='person'), target=Node(id='Sanju', type='film'), type='actedIn'), Relationship(source=Node(id='Anushka Sharma', type='person'), target=Node(id='Zero', type='film'), type='actedIn'), Relationship(source=Node(id='Clean Slate Filmz', type='company'), target=Node(id='Anushka Sharma', type='person'), type='co-foundedBy'), Relationship(source=Node(id='NH10', type='film'), target=Node(id='Clean Slate Filmz', type='company'), type='producedBy'), Relationship(source=Node(id='Paatal Lok', type='web series'), target=Node(id='Clean Slate Filmz', type='company'), type='producedBy'), Relationship(source=Node(id='Anushka Sharma', type='person'), target=Node(id='Nush', type='clothing line'), type='designedClothingLine'), Relationship(source=Node(id='Anushka Sharma', type='person'), target=Node(id='Virat Kohli', type='person'), type='marriedTo')]\n"
     ]
    },
    {
     "name": "stderr",
     "output_type": "stream",
     "text": [
      " 20%|████████████████▌                                                                  | 5/25 [03:06<13:22, 40.12s/it]"
     ]
    },
    {
     "name": "stdout",
     "output_type": "stream",
     "text": [
      "[Node(id='IPL 2024', type='event', properties=[Property(key='name', value='Indian Premier League 2024'), Property(key='alsoKnownAs', value='IPL 17'), Property(key='brand', value='TATA IPL 2024'), Property(key='edition', value='17th')]), Node(id='BCCI', type='organization', properties=[Property(key='name', value='Board of Control for Cricket in India')]), Node(id='teams', type='concept', properties=[Property(key='name', value='teams'), Property(key='description', value='franchise Twenty20 cricket teams')]), Node(id='Chennai', type='city', properties=[Property(key='name', value='Chennai')]), Node(id='CSK', type='team', properties=[Property(key='name', value='Chennai Super Kings')]), Node(id='Gujarat Titans', type='team', properties=[Property(key='name', value='Gujarat Titans')]), Node(id='KKR', type='team', properties=[Property(key='name', value='Kolkata Knight Riders')]), Node(id='SRH', type='team', properties=[Property(key='name', value='Sunrisers Hyderabad')])]\n",
      "[Relationship(source=Node(id='IPL 2024', type='event'), target=Node(id='BCCI', type='organization'), type='organizedBy'), Relationship(source=Node(id='IPL 2024', type='event'), target=Node(id='teams', type='concept'), type='featuredTeams'), Relationship(source=Node(id='IPL 2024', type='event'), target=Node(id='Chennai', type='city'), type='hostedIn'), Relationship(source=Node(id='CSK', type='team'), target=Node(id='IPL 2024', type='event'), type='defendingChampion'), Relationship(source=Node(id='CSK', type='team'), target=Node(id='Gujarat Titans', type='team'), type='beat'), Relationship(source=Node(id='KKR', type='team'), target=Node(id='SRH', type='team'), type='defeated')]\n"
     ]
    },
    {
     "name": "stderr",
     "output_type": "stream",
     "text": [
      " 24%|███████████████████▉                                                               | 6/25 [03:18<09:40, 30.56s/it]"
     ]
    },
    {
     "name": "stdout",
     "output_type": "stream",
     "text": [
      "[Node(id='2024', type='season', properties=[Property(key='number', value='17th')]), Node(id='Indian Premier League', type='league', properties=[]), Node(id='Royal Challengers Bengaluru', type='team', properties=[]), Node(id='10', type='team', properties=[]), Node(id='Bengaluru', type='city', properties=[]), Node(id='League stage', type='stage', properties=[]), Node(id='6th', type='position', properties=[]), Node(id='18 May 2024', type='date', properties=[]), Node(id='Playoffs', type='stage', properties=[]), Node(id='4th', type='position', properties=[]), Node(id='7', type='winCount', properties=[]), Node(id='7', type='lossCount', properties=[]), Node(id='14', type='points', properties=[]), Node(id='Eliminator', type='stage', properties=[]), Node(id='Rajasthan Royals', type='team', properties=[]), Node(id='22nd May', type='date', properties=[]), Node(id='Ahmedabad', type='city', properties=[]), Node(id='4th', type='position', properties=[]), Node(id='Virat Kohli', type='player', properties=[Property(key='runs', value='741'), Property(key='award', value='₹10 lakh (US$13,000)'), Property(key='awardType', value='Orange Cap')]), Node(id='Puma', type='kitManufacturer', properties=[]), Node(id='Qatar Airways', type='sponsor', properties=[Property(key='position', value='Main shirt sponsor')]), Node(id='KEI', type='sponsor', properties=[Property(key='position', value='Back shirt sponsor')]), Node(id='Delhivery', type='sponsor', properties=[Property(key='position', value='Chest branding')])]\n",
      "[Relationship(source=Node(id='2024', type='season'), target=Node(id='Indian Premier League', type='league'), type='franchise', properties=[]), Relationship(source=Node(id='Indian Premier League', type='league'), target=Node(id='Royal Challengers Bengaluru', type='team'), type='participatedIn', properties=[]), Relationship(source=Node(id='Royal Challengers Bengaluru', type='team'), target=Node(id='10', type='team'), type='competition', properties=[]), Relationship(source=Node(id='Royal Challengers Bengaluru', type='team'), target=Node(id='Bengaluru', type='city'), type='basedIn', properties=[]), Relationship(source=Node(id='Royal Challengers Bengaluru', type='team'), target=Node(id='League stage', type='stage'), type='participatedIn', properties=[]), Relationship(source=Node(id='Royal Challengers Bengaluru', type='team'), target=Node(id='6th', type='position'), type='finishedAt', properties=[]), Relationship(source=Node(id='Royal Challengers Bengaluru', type='team'), target=Node(id='18 May 2024', type='date'), type='qualifiedFor', properties=[]), Relationship(source=Node(id='Royal Challengers Bengaluru', type='team'), target=Node(id='Playoffs', type='stage'), type='participatedIn', properties=[]), Relationship(source=Node(id='Royal Challengers Bengaluru', type='team'), target=Node(id='4th', type='position'), type='finishedAt', properties=[]), Relationship(source=Node(id='Royal Challengers Bengaluru', type='team'), target=Node(id='7', type='winCount'), type='has', properties=[]), Relationship(source=Node(id='Royal Challengers Bengaluru', type='team'), target=Node(id='7', type='lossCount'), type='has', properties=[]), Relationship(source=Node(id='Royal Challengers Bengaluru', type='team'), target=Node(id='14', type='points'), type='has', properties=[]), Relationship(source=Node(id='Royal Challengers Bengaluru', type='team'), target=Node(id='Eliminator', type='stage'), type='participatedIn', properties=[]), Relationship(source=Node(id='Royal Challengers Bengaluru', type='team'), target=Node(id='Rajasthan Royals', type='team'), type='lostTo', properties=[]), Relationship(source=Node(id='Eliminator', type='stage'), target=Node(id='22nd May', type='date'), type='playedOn', properties=[]), Relationship(source=Node(id='Eliminator', type='stage'), target=Node(id='Ahmedabad', type='city'), type='playedAt', properties=[]), Relationship(source=Node(id='Royal Challengers Bengaluru', type='team'), target=Node(id='4th', type='position'), type='finishedAt', properties=[]), Relationship(source=Node(id='Virat Kohli', type='player'), target=Node(id='Royal Challengers Bengaluru', type='team'), type='playedFor', properties=[]), Relationship(source=Node(id='Virat Kohli', type='player'), target=Node(id='741', type='runs'), type='has', properties=[]), Relationship(source=Node(id='Virat Kohli', type='player'), target=Node(id='₹10 lakh (US$13,000)', type='award'), type='has', properties=[]), Relationship(source=Node(id='Virat Kohli', type='player'), target=Node(id='Orange Cap', type='awardType'), type='has', properties=[]), Relationship(source=Node(id='Royal Challengers Bengaluru', type='team'), target=Node(id='Puma', type='kitManufacturer'), type='has', properties=[]), Relationship(source=Node(id='Royal Challengers Bengaluru', type='team'), target=Node(id='Qatar Airways', type='sponsor'), type='has', properties=[Property(key='position', value='Main shirt sponsor')]), Relationship(source=Node(id='Royal Challengers Bengaluru', type='team'), target=Node(id='KEI', type='sponsor'), type='has', properties=[Property(key='position', value='Back shirt sponsor')]), Relationship(source=Node(id='Royal Challengers Bengaluru', type='team'), target=Node(id='Delhivery', type='sponsor'), type='has', properties=[Property(key='position', value='Chest branding')])]\n"
     ]
    },
    {
     "name": "stderr",
     "output_type": "stream",
     "text": [
      " 28%|███████████████████████▏                                                           | 7/25 [03:49<09:12, 30.72s/it]"
     ]
    },
    {
     "name": "stdout",
     "output_type": "stream",
     "text": [
      "[Node(id='ICC Awards of the Decade', type='award', properties=[]), Node(id='ICC Awards annual awards programme', type='award', properties=[]), Node(id='Awards Nominations Committee', type='committee', properties=[]), Node(id='Sir Garfield Sobers and Rachael Heyhoe Flint Awards', type='award', properties=[]), Node(id=\"men's game\", type='sport', properties=[]), Node(id=\"women's game\", type='sport', properties=[]), Node(id='fan vote', type='voting', properties=[]), Node(id='expert panel', type='voting', properties=[]), Node(id='ICC World XI Teams', type='team', properties=[]), Node(id='individual ICC awards', type='award', properties=[]), Node(id='Virat Kohli', type='person', properties=[])]\n",
      "[Relationship(source=Node(id='ICC Awards of the Decade', type='award'), target=Node(id='ICC Awards annual awards programme', type='award'), type='is_a'), Relationship(source=Node(id='ICC Awards of the Decade', type='award'), target=Node(id='Awards Nominations Committee', type='committee'), type='has_committee'), Relationship(source=Node(id='ICC Awards of the Decade', type='award'), target=Node(id='Sir Garfield Sobers and Rachael Heyhoe Flint Awards', type='award'), type='includes_category'), Relationship(source=Node(id='Sir Garfield Sobers and Rachael Heyhoe Flint Awards', type='award'), target=Node(id=\"men's game\", type='sport'), type='celebrates'), Relationship(source=Node(id='Sir Garfield Sobers and Rachael Heyhoe Flint Awards', type='award'), target=Node(id=\"women's game\", type='sport'), type='celebrates'), Relationship(source=Node(id='ICC Awards of the Decade', type='award'), target=Node(id='fan vote', type='voting'), type='includes_voting'), Relationship(source=Node(id='ICC Awards of the Decade', type='award'), target=Node(id='expert panel', type='voting'), type='includes_voting'), Relationship(source=Node(id='ICC Awards of the Decade', type='award'), target=Node(id='ICC World XI Teams', type='team'), type='includes_team'), Relationship(source=Node(id='ICC Awards of the Decade', type='award'), target=Node(id='individual ICC awards', type='award'), type='includes_category'), Relationship(source=Node(id='individual ICC awards', type='award'), target=Node(id='Virat Kohli', type='person'), type='winner')]\n"
     ]
    },
    {
     "name": "stderr",
     "output_type": "stream",
     "text": [
      " 32%|██████████████████████████▌                                                        | 8/25 [04:08<07:39, 27.02s/it]"
     ]
    },
    {
     "name": "stdout",
     "output_type": "stream",
     "text": [
      "[Node(id='Rohit Gurunath Sharma', type='person', properties=[Property(key='birthDate', value='30 April 1987'), Property(key='nationality', value='Indian'), Property(key='role', value='cricketer'), Property(key='captain', value='India national cricket team'), Property(key='batsmanHand', value='right-handed'), Property(key='teams', value='Mumbai Indians, Mumbai')]), Node(id='India national cricket team', type='team', properties=[]), Node(id='Mumbai Indians', type='team', properties=[]), Node(id='Mumbai', type='team', properties=[]), Node(id='MS Dhoni', type='person', properties=[Property(key='titleWins', value='5')]), Node(id='IPL', type='tournament', properties=[]), Node(id='2007 T20 World Cup', type='tournament', properties=[]), Node(id='2013 ICC Champions Trophy', type='tournament', properties=[]), Node(id='ICC T20 World Cup', type='tournament', properties=[]), Node(id='highest individual score', type='record', properties=[Property(key='score', value='264'), Property(key='format', value='One Day International (ODI)')]), Node(id='double-centuries', type='record', properties=[Property(key='count', value='3'), Property(key='format', value='ODIs')]), Node(id='hundreds', type='record', properties=[Property(key='count', value='5'), Property(key='format', value='Cricket World Cup')]), Node(id=\"ICC Men's ODI Cricketer of the Year\", type='award', properties=[Property(key='year', value='2019')]), Node(id='Arjuna Award', type='award', properties=[Property(key='year', value='2015')]), Node(id='Major Dhyan Chand Khel Ratna Award', type='award', properties=[Property(key='year', value='2020')]), Node(id='Asia Cup', type='tournament', properties=[]), Node(id='Nidahas Trophy', type='tournament', properties=[]), Node(id='WWF-India', type='organization', properties=[]), Node(id='People for the Ethical Treatment of Animals (PETA)', type='organization', properties=[])]\n",
      "[Relationship(source=Node(id='Rohit Gurunath Sharma', type='person'), target=Node(id='India national cricket team', type='team'), type='playsFor', properties=[]), Relationship(source=Node(id='Rohit Gurunath Sharma', type='person'), target=Node(id='Mumbai Indians', type='team'), type='playsFor', properties=[]), Relationship(source=Node(id='Rohit Gurunath Sharma', type='person'), target=Node(id='Mumbai', type='team'), type='playsFor', properties=[]), Relationship(source=Node(id='Rohit Gurunath Sharma', type='person'), target=Node(id='Mumbai Indians', type='team'), type='formerlyCaptained', properties=[Property(key='titleWins', value='5')]), Relationship(source=Node(id='Rohit Gurunath Sharma', type='person'), target=Node(id='India national cricket team', type='team'), type='captained', properties=[]), Relationship(source=Node(id='Rohit Gurunath Sharma', type='person'), target=Node(id='India national cricket team', type='team'), type='memberOf', properties=[Property(key='tournament', value='2007 T20 World Cup'), Property(key='tournament', value='2013 ICC Champions Trophy'), Property(key='tournament', value='ICC T20 World Cup')]), Relationship(source=Node(id='Rohit Gurunath Sharma', type='person'), target=Node(id='highest individual score', type='record'), type='holdsRecord', properties=[]), Relationship(source=Node(id='Rohit Gurunath Sharma', type='person'), target=Node(id='double-centuries', type='record'), type='holdsRecord', properties=[]), Relationship(source=Node(id='Rohit Gurunath Sharma', type='person'), target=Node(id='hundreds', type='record'), type='holdsRecord', properties=[]), Relationship(source=Node(id='Rohit Gurunath Sharma', type='person'), target=Node(id=\"ICC Men's ODI Cricketer of the Year\", type='award'), type='wonAward', properties=[]), Relationship(source=Node(id='Rohit Gurunath Sharma', type='person'), target=Node(id='Arjuna Award', type='award'), type='wonAward', properties=[]), Relationship(source=Node(id='Rohit Gurunath Sharma', type='person'), target=Node(id='Major Dhyan Chand Khel Ratna Award', type='award'), type='wonAward', properties=[]), Relationship(source=Node(id='Rohit Gurunath Sharma', type='person'), target=Node(id='Asia Cup', type='tournament'), type='captained', properties=[]), Relationship(source=Node(id='Rohit Gurunath Sharma', type='person'), target=Node(id='Nidahas Trophy', type='tournament'), type='captained', properties=[]), Relationship(source=Node(id='Rohit Gurunath Sharma', type='person'), target=Node(id='WWF-India', type='organization'), type='supports', properties=[Property(key='role', value='Rhino Ambassador')]), Relationship(source=Node(id='Rohit Gurunath Sharma', type='person'), target=Node(id='People for the Ethical Treatment of Animals (PETA)', type='organization'), type='memberOf', properties=[])]\n"
     ]
    },
    {
     "name": "stderr",
     "output_type": "stream",
     "text": [
      " 36%|█████████████████████████████▉                                                     | 9/25 [04:30<06:47, 25.45s/it]"
     ]
    },
    {
     "name": "stdout",
     "output_type": "stream",
     "text": [
      "[Node(id='India', type='country', properties=[]), Node(id=\"India_men's_national_cricket_team\", type='sportsTeam', properties=[Property(key='name', value=\"India men's national cricket team\"), Property(key='represents', value='India'), Property(key='governed_by', value='Board of Control for Cricket in India (BCCI)'), Property(key='member_of', value='International Cricket Council (ICC)'), Property(key='test_status', value='Test, ODI, T20I'), Property(key='first_match', value=\"25 June 1932 against England at Lord's Cricket Ground in London\")]), Node(id='Board_of_Control_for_Cricket_in_India', type='organization', properties=[Property(key='name', value='Board of Control for Cricket in India (BCCI)')]), Node(id='International_Cricket_Council', type='organization', properties=[Property(key='name', value='International Cricket Council (ICC)')]), Node(id='Cricket_World_Cup', type='tournament', properties=[Property(key='name', value='Cricket World Cup'), Property(key='times_won', value='2'), Property(key='times_runner_up', value='2')]), Node(id='ICC_T20_World_Cup', type='tournament', properties=[Property(key='name', value='ICC T20 World Cup'), Property(key='times_won', value='1'), Property(key='times_runner_up', value='1')]), Node(id='ICC_Champions_Trophy', type='tournament', properties=[Property(key='name', value='ICC Champions Trophy'), Property(key='times_won', value='2'), Property(key='times_runner_up', value='2')]), Node(id='Asia_Cup', type='tournament', properties=[Property(key='name', value='Asia Cup'), Property(key='times_won', value='8'), Property(key='times_runner_up', value='3')]), Node(id='Asian_Games', type='tournament', properties=[Property(key='name', value='Asian Games'), Property(key='times_won', value='1')]), Node(id='ICC_Test_Championship', type='tournament', properties=[Property(key='name', value='ICC Test Championship'), Property(key='times_won', value='5')]), Node(id='ICC_ODI_Championship', type='tournament', properties=[Property(key='name', value='ICC ODI Championship'), Property(key='times_won', value='1')]), Node(id='England', type='country', properties=[]), Node(id=\"Lord's_Cricket_Ground\", type='venue', properties=[Property(key='name', value=\"Lord's Cricket Ground\"), Property(key='location', value='London')]), Node(id='India_vs_England', type='match', properties=[Property(key='teams', value='India, England'), Property(key='date', value='25 June 1932'), Property(key='venue', value=\"Lord's Cricket Ground\")]), Node(id='Sunil_Gavaskar', type='person', properties=[Property(key='name', value='Sunil Gavaskar')]), Node(id='Gundappa_Viswanath', type='person', properties=[Property(key='name', value='Gundappa Viswanath')]), Node(id='Kapil_Dev', type='person', properties=[Property(key='name', value='Kapil Dev')]), Node(id='West_Indies', type='country', properties=[]), Node(id='Ranjitsinhji', type='person', properties=[Property(key='name', value='Ranjitsinhji')]), Node(id='Duleepsinhji', type='person', properties=[Property(key='name', value='Duleepsinhji')]), Node(id='Ranji_Trophy', type='tournament', properties=[Property(key='name', value='Ranji Trophy')]), Node(id='Duleep_Trophy', type='tournament', properties=[Property(key='name', value='Duleep Trophy')]), Node(id='Bhupinder_Singh_of_Patiala', type='person', properties=[Property(key='name', value='Bhupinder Singh of Patiala')])]\n",
      "[Relationship(source=Node(id=\"India_men's_national_cricket_team\", type='sportsTeam'), target=Node(id='India', type='country'), type='represents', properties=[]), Relationship(source=Node(id=\"India_men's_national_cricket_team\", type='sportsTeam'), target=Node(id='Board_of_Control_for_Cricket_in_India', type='organization'), type='governed_by', properties=[]), Relationship(source=Node(id=\"India_men's_national_cricket_team\", type='sportsTeam'), target=Node(id='International_Cricket_Council', type='organization'), type='member_of', properties=[]), Relationship(source=Node(id=\"India_men's_national_cricket_team\", type='sportsTeam'), target=Node(id='Cricket_World_Cup', type='tournament'), type='has_won', properties=[]), Relationship(source=Node(id=\"India_men's_national_cricket_team\", type='sportsTeam'), target=Node(id='Cricket_World_Cup', type='tournament'), type='has_finished_as_runner_up', properties=[]), Relationship(source=Node(id=\"India_men's_national_cricket_team\", type='sportsTeam'), target=Node(id='ICC_T20_World_Cup', type='tournament'), type='has_won', properties=[]), Relationship(source=Node(id=\"India_men's_national_cricket_team\", type='sportsTeam'), target=Node(id='ICC_T20_World_Cup', type='tournament'), type='has_finished_as_runner_up', properties=[]), Relationship(source=Node(id=\"India_men's_national_cricket_team\", type='sportsTeam'), target=Node(id='ICC_Champions_Trophy', type='tournament'), type='has_won', properties=[]), Relationship(source=Node(id=\"India_men's_national_cricket_team\", type='sportsTeam'), target=Node(id='ICC_Champions_Trophy', type='tournament'), type='has_finished_as_runner_up', properties=[]), Relationship(source=Node(id=\"India_men's_national_cricket_team\", type='sportsTeam'), target=Node(id='Asia_Cup', type='tournament'), type='has_won', properties=[]), Relationship(source=Node(id=\"India_men's_national_cricket_team\", type='sportsTeam'), target=Node(id='Asia_Cup', type='tournament'), type='has_finished_as_runner_up', properties=[]), Relationship(source=Node(id=\"India_men's_national_cricket_team\", type='sportsTeam'), target=Node(id='Asian_Games', type='tournament'), type='has_won', properties=[]), Relationship(source=Node(id=\"India_men's_national_cricket_team\", type='sportsTeam'), target=Node(id='ICC_Test_Championship', type='tournament'), type='has_won', properties=[]), Relationship(source=Node(id=\"India_men's_national_cricket_team\", type='sportsTeam'), target=Node(id='ICC_ODI_Championship', type='tournament'), type='has_won', properties=[]), Relationship(source=Node(id='India', type='country'), target=Node(id='England', type='country'), type='played_against', properties=[]), Relationship(source=Node(id=\"India_men's_national_cricket_team\", type='sportsTeam'), target=Node(id=\"Lord's_Cricket_Ground\", type='venue'), type='played_at', properties=[]), Relationship(source=Node(id=\"India_men's_national_cricket_team\", type='sportsTeam'), target=Node(id='India_vs_England', type='match'), type='played_match', properties=[]), Relationship(source=Node(id=\"India_men's_national_cricket_team\", type='sportsTeam'), target=Node(id='Sunil_Gavaskar', type='person'), type='has_player', properties=[]), Relationship(source=Node(id=\"India_men's_national_cricket_team\", type='sportsTeam'), target=Node(id='Gundappa_Viswanath', type='person'), type='has_player', properties=[]), Relationship(source=Node(id=\"India_men's_national_cricket_team\", type='sportsTeam'), target=Node(id='Kapil_Dev', type='person'), type='has_player', properties=[]), Relationship(source=Node(id=\"India_men's_national_cricket_team\", type='sportsTeam'), target=Node(id='West_Indies', type='country'), type='has_played_against', properties=[]), Relationship(source=Node(id=\"India_men's_national_cricket_team\", type='sportsTeam'), target=Node(id='Ranjitsinhji', type='person'), type='has_played_for', properties=[]), Relationship(source=Node(id=\"India_men's_national_cricket_team\", type='sportsTeam'), target=Node(id='Duleepsinhji', type='person'), type='has_played_for', properties=[]), Relationship(source=Node(id='Ranjitsinhji', type='person'), target=Node(id='Ranji_Trophy', type='tournament'), type='named_after', properties=[]), Relationship(source=Node(id='Duleepsinhji', type='person'), target=Node(id='Duleep_Trophy', type='tournament'), type='named_after', properties=[]), Relationship(source=Node(id='Bhupinder_Singh_of_Patiala', type='person'), target=Node(id=\"India_men's_national_cricket_team\", type='sportsTeam'), type='captained', properties=[])]\n"
     ]
    },
    {
     "name": "stderr",
     "output_type": "stream",
     "text": [
      " 44%|████████████████████████████████████                                              | 11/25 [05:31<06:00, 25.77s/it]"
     ]
    },
    {
     "name": "stdout",
     "output_type": "stream",
     "text": [
      "[Node(id='Virat', type='person', properties=[Property(key='name', value='Virat'), Property(key='gender', value='male'), Property(key='nationality', value='Indian')]), Node(id='Viraat Badhwar', type='person', properties=[Property(key='name', value='Viraat Badhwar'), Property(key='gender', value='male'), Property(key='nationality', value='Australian'), Property(key='occupation', value='golfer'), Property(key='birthDate', value='2000')]), Node(id='Virat Kohli', type='person', properties=[Property(key='name', value='Virat Kohli'), Property(key='gender', value='male'), Property(key='nationality', value='Indian'), Property(key='occupation', value='cricketer'), Property(key='birthDate', value='1988')]), Node(id='Virat Singh', type='person', properties=[Property(key='name', value='Virat Singh'), Property(key='gender', value='male'), Property(key='nationality', value='Indian'), Property(key='occupation', value='cricketer'), Property(key='birthDate', value='1997')])]\n",
      "[]\n",
      "[Node(id='2024 season', type='season', properties=[Property(key='year', value='2024')]), Node(id='Indian Premier League', type='league'), Node(id='Rajasthan Royals', type='team', properties=[Property(key='franchise', value='Rajasthan Royals')]), Node(id='Playoffs', type='stage'), Node(id='League stage', type='stage'), Node(id='Eliminator', type='stage'), Node(id='Qualifier 2', type='stage'), Node(id='Lucknow', type='team'), Node(id='Royal Challengers Bengaluru', type='team'), Node(id='Sunrisers Hyderabad', type='team'), Node(id='Chennai', type='city'), Node(id='Ahmedabad', type='city')]\n",
      "[Relationship(source=Node(id='2024 season', type='season'), target=Node(id='Indian Premier League', type='league'), type='participated_in'), Relationship(source=Node(id='Rajasthan Royals', type='team'), target=Node(id='2024 season', type='season'), type='participated_in'), Relationship(source=Node(id='Rajasthan Royals', type='team'), target=Node(id='Indian Premier League', type='league'), type='part_of'), Relationship(source=Node(id='Rajasthan Royals', type='team'), target=Node(id='Playoffs', type='stage'), type='advanced_to'), Relationship(source=Node(id='Rajasthan Royals', type='team'), target=Node(id='League stage', type='stage'), type='part_of'), Relationship(source=Node(id='Lucknow', type='team'), target=Node(id='Rajasthan Royals', type='team'), type='defeated_by'), Relationship(source=Node(id='Royal Challengers Bengaluru', type='team'), target=Node(id='Rajasthan Royals', type='team'), type='defeated_by'), Relationship(source=Node(id='Rajasthan Royals', type='team'), target=Node(id='Qualifier 2', type='stage'), type='eliminated_from'), Relationship(source=Node(id='Sunrisers Hyderabad', type='team'), target=Node(id='Rajasthan Royals', type='team'), type='defeated_by'), Relationship(source=Node(id='Eliminator', type='stage'), target=Node(id='Rajasthan Royals', type='team'), type='played_in'), Relationship(source=Node(id='Qualifier 2', type='stage'), target=Node(id='Rajasthan Royals', type='team'), type='played_in'), Relationship(source=Node(id='Lucknow', type='team'), target=Node(id='2024 season', type='season'), type='participated_in'), Relationship(source=Node(id='Royal Challengers Bengaluru', type='team'), target=Node(id='2024 season', type='season'), type='participated_in'), Relationship(source=Node(id='Sunrisers Hyderabad', type='team'), target=Node(id='2024 season', type='season'), type='participated_in'), Relationship(source=Node(id='Ahmedabad', type='city'), target=Node(id='Eliminator', type='stage'), type='played_in'), Relationship(source=Node(id='Chennai', type='city'), target=Node(id='Qualifier 2', type='stage'), type='played_in')]\n"
     ]
    },
    {
     "name": "stderr",
     "output_type": "stream",
     "text": [
      " 48%|███████████████████████████████████████▎                                          | 12/25 [05:44<04:43, 21.79s/it]"
     ]
    },
    {
     "name": "stdout",
     "output_type": "stream",
     "text": [
      "[Node(id='Shreyas Santosh Iyer', type='person', properties=[Property(key='birthDate', value='6 December 1994'), Property(key='nationality', value='Indian'), Property(key='role', value='cricketer')]), Node(id='Indian cricket team', type='team', properties=[Property(key='sport', value='cricket')]), Node(id='right-handed batter', type='position'), Node(id='New Zealand', type='country'), Node(id='Mumbai', type='team', properties=[Property(key='sport', value='cricket')]), Node(id='Kolkata Knight Riders', type='team', properties=[Property(key='sport', value='cricket'), Property(key='captain', value='Shreyas Santosh Iyer')]), Node(id='India Under-19 cricket team', type='team', properties=[Property(key='sport', value='cricket')]), Node(id='2014 ICC Under-19 Cricket World Cup', type='tournament', properties=[Property(key='sport', value='cricket')]), Node(id='2023 Cricket World Cup', type='tournament', properties=[Property(key='sport', value='cricket')]), Node(id='blitzering century', type='achievement'), Node(id='2023 Asia Cup', type='tournament', properties=[Property(key='sport', value='cricket')]), Node(id='2024 Indian Premier League', type='tournament', properties=[Property(key='sport', value='cricket')]), Node(id='Delhi Daredevils', type='team', properties=[Property(key='currentName', value='Delhi Capitals')]), Node(id='2015 IPL auction', type='event', properties=[Property(key='amount', value='2.6 crore'), Property(key='currency', value='INR')]), Node(id='IPL Emerging Player of the Year', type='award'), Node(id='Trent Bridge Cricket Team', type='team', properties=[Property(key='location', value='UK')]), Node(id='UK', type='country'), Node(id='List A', type='format'), Node(id='2014–15 Vijay Hazare Trophy', type='tournament', properties=[Property(key='format', value='List A')]), Node(id='2014–15 Ranji Trophy', type='tournament', properties=[Property(key='format', value='first-class')]), Node(id='2015–16 Ranji Trophy', type='tournament', properties=[Property(key='format', value='first-class')]), Node(id='2016–17 Ranji Trophy', type='tournament', properties=[Property(key='format', value='first-class')]), Node(id='Australia', type='country'), Node(id='3-Day Practice match', type='match', properties=[Property(key='format', value='first-class')]), Node(id='September 2018', type='month'), Node(id='2018–19 Vijay Hazare Trophy', type='tournament', properties=[Property(key='format', value='List A')]), Node(id='October 2018', type='month'), Node(id='India B', type='team', properties=[Property(key='sport', value='cricket')]), Node(id='2018–19 Deodhar Trophy', type='tournament', properties=[Property(key='format', value='List A')]), Node(id='February 2019', type='month'), Node(id='2018–19 Syed Mushtaq Ali Trophy', type='tournament', properties=[Property(key='format', value='T20')]), Node(id='Lancashire', type='team', properties=[Property(key='location', value='UK')]), Node(id='Royal London One-Day Cup', type='tournament', properties=[Property(key='format', value='List A')])]\n",
      "[Relationship(source=Node(id='Shreyas Santosh Iyer', type='person'), target=Node(id='Indian cricket team', type='team'), type='playsFor'), Relationship(source=Node(id='Shreyas Santosh Iyer', type='person'), target=Node(id='right-handed batter', type='position'), type='hasPosition'), Relationship(source=Node(id='Shreyas Santosh Iyer', type='person'), target=Node(id='Mumbai', type='team'), type='playsFor'), Relationship(source=Node(id='Shreyas Santosh Iyer', type='person'), target=Node(id='Kolkata Knight Riders', type='team'), type='playsFor'), Relationship(source=Node(id='Shreyas Santosh Iyer', type='person'), target=Node(id='India Under-19 cricket team', type='team'), type='playsFor'), Relationship(source=Node(id='Shreyas Santosh Iyer', type='person'), target=Node(id='2014 ICC Under-19 Cricket World Cup', type='tournament'), type='playedIn'), Relationship(source=Node(id='Shreyas Santosh Iyer', type='person'), target=Node(id='2023 Cricket World Cup', type='tournament'), type='selectedFor'), Relationship(source=Node(id='Shreyas Santosh Iyer', type='person'), target=Node(id='blitzering century', type='achievement'), type='achieved'), Relationship(source=Node(id='Shreyas Santosh Iyer', type='person'), target=Node(id='2023 Asia Cup', type='tournament'), type='playedIn'), Relationship(source=Node(id='Shreyas Santosh Iyer', type='person'), target=Node(id='2024 Indian Premier League', type='tournament'), type='playedIn'), Relationship(source=Node(id='Delhi Daredevils', type='team'), target=Node(id='Shreyas Santosh Iyer', type='person'), type='boughtBy'), Relationship(source=Node(id='Shreyas Santosh Iyer', type='person'), target=Node(id='2015 IPL auction', type='event'), type='participatedIn'), Relationship(source=Node(id='Shreyas Santosh Iyer', type='person'), target=Node(id='IPL Emerging Player of the Year', type='award'), type='wonAward'), Relationship(source=Node(id='Shreyas Santosh Iyer', type='person'), target=Node(id='Trent Bridge Cricket Team', type='team'), type='representedBy'), Relationship(source=Node(id='Trent Bridge Cricket Team', type='team'), target=Node(id='UK', type='country'), type='locatedIn'), Relationship(source=Node(id='Shreyas Santosh Iyer', type='person'), target=Node(id='2014–15 Vijay Hazare Trophy', type='tournament'), type='playedIn'), Relationship(source=Node(id='Shreyas Santosh Iyer', type='person'), target=Node(id='2014–15 Ranji Trophy', type='tournament'), type='playedIn'), Relationship(source=Node(id='Shreyas Santosh Iyer', type='person'), target=Node(id='2015–16 Ranji Trophy', type='tournament'), type='playedIn'), Relationship(source=Node(id='Shreyas Santosh Iyer', type='person'), target=Node(id='2016–17 Ranji Trophy', type='tournament'), type='playedIn'), Relationship(source=Node(id='Australia', type='country'), target=Node(id='3-Day Practice match', type='match'), type='visitedBy'), Relationship(source=Node(id='3-Day Practice match', type='match'), target=Node(id='Mumbai', type='city'), type='playedIn'), Relationship(source=Node(id='Shreyas Santosh Iyer', type='person'), target=Node(id='September 2018', type='month'), type='namedViceCaptain'), Relationship(source=Node(id='Shreyas Santosh Iyer', type='person'), target=Node(id='2018–19 Vijay Hazare Trophy', type='tournament'), type='playedIn'), Relationship(source=Node(id='Shreyas Santosh Iyer', type='person'), target=Node(id='October 2018', type='month'), type='captainOf'), Relationship(source=Node(id='India B', type='team'), target=Node(id='Shreyas Santosh Iyer', type='person'), type='captainOf'), Relationship(source=Node(id='Shreyas Santosh Iyer', type='person'), target=Node(id='2018–19 Deodhar Trophy', type='tournament'), type='captainOf'), Relationship(source=Node(id='Shreyas Santosh Iyer', type='person'), target=Node(id='February 2019', type='month'), type='achievedHighestTotal'), Relationship(source=Node(id='Shreyas Santosh Iyer', type='person'), target=Node(id='2018–19 Syed Mushtaq Ali Trophy', type='tournament'), type='playedIn'), Relationship(source=Node(id='Shreyas Santosh Iyer', type='person'), target=Node(id='Lancashire', type='team'), type='signedBy'), Relationship(source=Node(id='Lancashire', type='team'), target=Node(id='UK', type='country'), type='locatedIn'), Relationship(source=Node(id='Shreyas Santosh Iyer', type='person'), target=Node(id='Royal London One-Day Cup', type='tournament'), type='playedIn')]\n"
     ]
    },
    {
     "name": "stderr",
     "output_type": "stream",
     "text": [
      " 52%|██████████████████████████████████████████▋                                       | 13/25 [06:24<05:28, 27.33s/it]"
     ]
    },
    {
     "name": "stdout",
     "output_type": "stream",
     "text": [
      "[Node(id='BCCI', type='organization', properties=[Property(key='name', value='Board of Control for Cricket in India'), Property(key='headquarters', value='Cricket Centre, Churchgate, Mumbai'), Property(key='establishedDate', value='1 December 1928'), Property(key='registeredUnder', value='Tamil Nadu Societies Registration Act, 1975'), Property(key='president', value='Roger Binny'), Property(key='secretary', value='Jay Shah'), Property(key='revenue', value='₹16,875 crore (US$2.1 billion) (2023-2024)'), Property(key='taxesPaid', value='₹4,000 crore (US$500 million) (2022-2023)')]), Node(id='Cricket Centre', type='location', properties=[Property(key='name', value='Cricket Centre'), Property(key='city', value='Mumbai')]), Node(id='Madras', type='location', properties=[Property(key='name', value='Madras'), Property(key='currentName', value='Chennai')]), Node(id='International Cricket Council', type='organization', properties=[Property(key='name', value='International Cricket Council')]), Node(id='IPL', type='organization', properties=[Property(key='name', value='Indian Premier League')]), Node(id='R. E. Grant Govan', type='person', properties=[Property(key='name', value='R. E. Grant Govan')]), Node(id='Anthony De Mello', type='person', properties=[Property(key='name', value='Anthony De Mello')]), Node(id='Roger Binny', type='person', properties=[Property(key='name', value='Roger Binny')]), Node(id='Jay Shah', type='person', properties=[Property(key='name', value='Jay Shah')]), Node(id='2026 T20 World Cup', type='event', properties=[Property(key='name', value='2026 T20 World Cup')]), Node(id='2029 Champions Trophy', type='event', properties=[Property(key='name', value='2029 Champions Trophy')]), Node(id='2031 Cricket World Cup', type='event', properties=[Property(key='name', value='2031 Cricket World Cup')]), Node(id=\"2025 Women's Cricket World Cup\", type='event', properties=[Property(key='name', value=\"2025 Women's Cricket World Cup\")]), Node(id=\"men's national cricket team\", type='team', properties=[Property(key='name', value=\"men's national cricket team\")]), Node(id=\"women's national cricket team\", type='team', properties=[Property(key='name', value=\"women's national cricket team\")]), Node(id=\"men's national under-19 cricket team\", type='team', properties=[Property(key='name', value=\"men's national under-19 cricket team\")]), Node(id=\"women's national under-19 cricket team\", type='team', properties=[Property(key='name', value=\"women's national under-19 cricket team\")]), Node(id='India A', type='team', properties=[Property(key='name', value='India A')]), Node(id='India B', type='team', properties=[Property(key='name', value='India B')]), Node(id=\"India A women's team\", type='team', properties=[Property(key='name', value=\"India A women's team\")]), Node(id='national selection committee', type='organization', properties=[Property(key='name', value='national selection committee')]), Node(id='chief national selector', type='person', properties=[Property(key='name', value='chief national selector')])]\n",
      "[Relationship(source=Node(id='BCCI', type='organization'), target=Node(id='Cricket Centre', type='location'), type='hasHeadquarters'), Relationship(source=Node(id='BCCI', type='organization'), target=Node(id='Madras', type='location'), type='establishedAt'), Relationship(source=Node(id='BCCI', type='organization'), target=Node(id='International Cricket Council', type='organization'), type='isMemberOf'), Relationship(source=Node(id='BCCI', type='organization'), target=Node(id='IPL', type='organization'), type='organizes'), Relationship(source=Node(id='R. E. Grant Govan', type='person'), target=Node(id='BCCI', type='organization'), type='hasPresident'), Relationship(source=Node(id='Anthony De Mello', type='person'), target=Node(id='BCCI', type='organization'), type='hasSecretary'), Relationship(source=Node(id='Roger Binny', type='person'), target=Node(id='BCCI', type='organization'), type='isPresidentOf'), Relationship(source=Node(id='Jay Shah', type='person'), target=Node(id='BCCI', type='organization'), type='isSecretaryOf'), Relationship(source=Node(id='BCCI', type='organization'), target=Node(id='2026 T20 World Cup', type='event'), type='willHost'), Relationship(source=Node(id='BCCI', type='organization'), target=Node(id='2029 Champions Trophy', type='event'), type='willHost'), Relationship(source=Node(id='BCCI', type='organization'), target=Node(id='2031 Cricket World Cup', type='event'), type='willHost'), Relationship(source=Node(id='BCCI', type='organization'), target=Node(id=\"2025 Women's Cricket World Cup\", type='event'), type='willHost'), Relationship(source=Node(id='BCCI', type='organization'), target=Node(id=\"men's national cricket team\", type='team'), type='manages'), Relationship(source=Node(id='BCCI', type='organization'), target=Node(id=\"women's national cricket team\", type='team'), type='manages'), Relationship(source=Node(id='BCCI', type='organization'), target=Node(id=\"men's national under-19 cricket team\", type='team'), type='manages'), Relationship(source=Node(id='BCCI', type='organization'), target=Node(id=\"women's national under-19 cricket team\", type='team'), type='manages'), Relationship(source=Node(id='BCCI', type='organization'), target=Node(id='India A', type='team'), type='governs'), Relationship(source=Node(id='BCCI', type='organization'), target=Node(id='India B', type='team'), type='governs'), Relationship(source=Node(id='BCCI', type='organization'), target=Node(id=\"India A women's team\", type='team'), type='governs'), Relationship(source=Node(id='national selection committee', type='organization'), target=Node(id=\"men's national cricket team\", type='team'), type='selectsPlayersFor'), Relationship(source=Node(id='national selection committee', type='organization'), target=Node(id=\"women's national cricket team\", type='team'), type='selectsPlayersFor'), Relationship(source=Node(id='national selection committee', type='organization'), target=Node(id=\"men's national under-19 cricket team\", type='team'), type='selectsPlayersFor'), Relationship(source=Node(id='national selection committee', type='organization'), target=Node(id=\"women's national under-19 cricket team\", type='team'), type='selectsPlayersFor'), Relationship(source=Node(id='chief national selector', type='person'), target=Node(id='national selection committee', type='organization'), type='isLeaderOf')]\n"
     ]
    },
    {
     "name": "stderr",
     "output_type": "stream",
     "text": [
      " 56%|█████████████████████████████████████████████▉                                    | 14/25 [06:57<05:19, 29.03s/it]"
     ]
    },
    {
     "name": "stdout",
     "output_type": "stream",
     "text": [
      "[Node(id='2024 season', type='season', properties=[Property(key='seasonNumber', value='15')]), Node(id='Chennai Super Kings', type='team', properties=[Property(key='franchise', value='Indian Premier League'), Property(key='defendingChampions', value='true'), Property(key='IPLTitles', value='5')]), Node(id='MS Dhoni', type='person', properties=[Property(key='captaincy', value='handovered')]), Node(id='Ruturaj Gaikwad', type='person', properties=[Property(key='captaincy', value='received')])]\n",
      "[Relationship(source=Node(id='2024 season', type='season'), target=Node(id='Chennai Super Kings', type='team'), type='participatedIn'), Relationship(source=Node(id='Chennai Super Kings', type='team'), target=Node(id='2024 Indian Premier League', type='tournament'), type='participatedIn'), Relationship(source=Node(id='Chennai Super Kings', type='team'), target=Node(id='Gujarat Titans', type='team'), type='defeated'), Relationship(source=Node(id='2024 Indian Premier League', type='tournament'), target=Node(id='Chennai Super Kings', type='team'), type='final'), Relationship(source=Node(id='Chennai Super Kings', type='team'), target=Node(id='MS Dhoni', type='person'), type='captaincyHandover'), Relationship(source=Node(id='Chennai Super Kings', type='team'), target=Node(id='Ruturaj Gaikwad', type='person'), type='captaincyReceived'), Relationship(source=Node(id='Chennai Super Kings', type='team'), target=Node(id='2024 Indian Premier League', type='tournament'), type='eliminatedFrom'), Relationship(source=Node(id='Chennai Super Kings', type='team'), target=Node(id='2024 Indian Premier League', type='tournament'), type='finishedAt')]\n"
     ]
    },
    {
     "name": "stderr",
     "output_type": "stream",
     "text": [
      " 60%|█████████████████████████████████████████████████▏                                | 15/25 [07:07<03:53, 23.37s/it]"
     ]
    },
    {
     "name": "stdout",
     "output_type": "stream",
     "text": [
      "[Node(id='2023', type='CricketWorldCup', properties=[Property(key='host', value='India')]), Node(id='Wankhede Stadium', type='Stadium'), Node(id='Mumbai', type='City'), Node(id='Eden Gardens', type='Stadium'), Node(id='Kolkata', type='City'), Node(id='Narendra Modi Stadium', type='Stadium', properties=[Property(key='location', value='Ahmedabad')]), Node(id='Pakistan', type='Country'), Node(id='India', type='Country'), Node(id='Sri Lanka', type='Country'), Node(id='South Africa', type='Country'), Node(id='New Zealand', type='Country'), Node(id='Afghanistan', type='Country'), Node(id='Australia', type='Country'), Node(id='England', type='Country')]\n",
      "[Relationship(source=Node(id='2023', type='CricketWorldCup'), target=Node(id='Wankhede Stadium', type='Stadium'), type='venue'), Relationship(source=Node(id='2023', type='CricketWorldCup'), target=Node(id='Eden Gardens', type='Stadium'), type='venue'), Relationship(source=Node(id='2023', type='CricketWorldCup'), target=Node(id='Narendra Modi Stadium', type='Stadium'), type='venue'), Relationship(source=Node(id='Pakistan', type='Country'), target=Node(id='Eden Gardens', type='Stadium'), type='venue'), Relationship(source=Node(id='India', type='Country'), target=Node(id='Wankhede Stadium', type='Stadium'), type='venue'), Relationship(source=Node(id='India', type='Country'), target=Node(id='2023', type='CricketWorldCup'), type='host'), Relationship(source=Node(id='India', type='Country'), target=Node(id='Sri Lanka', type='Country'), type='qualification'), Relationship(source=Node(id='South Africa', type='Country'), target=Node(id='Pakistan', type='Country'), type='qualification'), Relationship(source=Node(id='India', type='Country'), target=Node(id='South Africa', type='Country'), type='qualification'), Relationship(source=Node(id='Australia', type='Country'), target=Node(id='Afghanistan', type='Country'), type='qualification'), Relationship(source=Node(id='England', type='Country'), target=Node(id='Pakistan', type='Country'), type='qualification'), Relationship(source=Node(id='New Zealand', type='Country'), target=Node(id='Pakistan', type='Country'), type='qualification'), Relationship(source=Node(id='New Zealand', type='Country'), target=Node(id='India', type='Country'), type='semi-final')]\n"
     ]
    },
    {
     "name": "stderr",
     "output_type": "stream",
     "text": [
      " 68%|███████████████████████████████████████████████████████▊                          | 17/25 [07:39<02:32, 19.11s/it]"
     ]
    },
    {
     "name": "stdout",
     "output_type": "stream",
     "text": [
      "[Node(id='Kolkata Knight Riders', type='team', properties=[Property(key='name', value='Kolkata Knight Riders'), Property(key='IPL titles', value='3')]), Node(id='Royal Challengers Bangalore', type='team', properties=[Property(key='name', value='Royal Challengers Bangalore'), Property(key='IPL titles', value='0')]), Node(id='Virat Kohli', type='person', properties=[Property(key='name', value='Virat Kohli'), Property(key='runs', value='962')]), Node(id='Sunil Narine', type='person', properties=[Property(key='name', value='Sunil Narine'), Property(key='wickets', value='26')])]\n",
      "[Relationship(source=Node(id='Kolkata Knight Riders', type='team'), target=Node(id='Royal Challengers Bangalore', type='team'), type='rivalry', properties=[Property(key='description', value='The Kolkata Knight Riders-Royal Challengers Bangalore is a cricket rivalry between the IPL teams of Kolkata Knight Riders and Royal Challengers Bangalore in the Indian Premier League (IPL) and the defunct Champions League Twenty20 (CLT20). It is the oldest rivalry of the IPL and is often referred to as the El Primero of the Indian Premier League.'), Property(key='matches_played', value='33'), Property(key='victories_KKR', value='20'), Property(key='victories_RCB', value='13')]), Relationship(source=Node(id='Virat Kohli', type='person'), target=Node(id='Royal Challengers Bangalore', type='team'), type='highest_scorer', properties=[Property(key='runs', value='962')]), Relationship(source=Node(id='Sunil Narine', type='person'), target=Node(id='Kolkata Knight Riders', type='team'), type='highest_wicket_taker', properties=[Property(key='wickets', value='26')])]\n",
      "[Node(id='Super V', type='TV series', properties=[Property(key='basedOn', value='Virat Kohli'), Property(key='createdBy', value='Harman Baweja'), Property(key='country', value='India')]), Node(id='Harman Baweja', type='person', properties=[]), Node(id='Star India', type='company', properties=[]), Node(id='Star Network', type='company', properties=[]), Node(id='Disney India', type='company', properties=[]), Node(id='Virat', type='person', properties=[Property(key='age', value='15'), Property(key='residence', value='New Delhi')]), Node(id='Ashok', type='person', properties=[Property(key='profession', value='lawyer')]), Node(id='Gogi', type='person', properties=[Property(key='profession', value='homemaker')]), Node(id='Sachit Wadekar', type='person', properties=[]), Node(id='Sooraj', type='person', properties=[Property(key='profession', value='cricketer'), Property(key='role', value='captain of the under 19 Indian team')]), Node(id='Jo', type='person', properties=[]), Node(id='Bunny', type='person', properties=[]), Node(id='Amara', type='person', properties=[]), Node(id='Shazia', type='person', properties=[]), Node(id='Navar', type='person', properties=[Property(key='role', value='supervillain')]), Node(id=\"Virat's Grandfather\", type='person', properties=[]), Node(id='Upen Chauhan', type='person', properties=[]), Node(id='Samay Raj Thakkar', type='person', properties=[]), Node(id='Anil Dutt', type='person', properties=[]), Node(id='Rishabh Arora', type='person', properties=[]), Node(id='Mallika Singh', type='person', properties=[]), Node(id='Nathan Dcosta', type='person', properties=[]), Node(id='Ketan Kava', type='person', properties=[]), Node(id='Akash Chopra', type='person', properties=[])]\n",
      "[Relationship(source=Node(id='Super V', type='TV series'), target=Node(id='Virat Kohli', type='person'), type='basedOn', properties=[]), Relationship(source=Node(id='Super V', type='TV series'), target=Node(id='Harman Baweja', type='person'), type='createdBy', properties=[]), Relationship(source=Node(id='Super V', type='TV series'), target=Node(id='Star India', type='company'), type='producedBy', properties=[]), Relationship(source=Node(id='Super V', type='TV series'), target=Node(id='Star Network', type='company'), type='broadcastedBy', properties=[]), Relationship(source=Node(id='Super V', type='TV series'), target=Node(id='Disney India', type='company'), type='broadcastedBy', properties=[]), Relationship(source=Node(id='Virat', type='person'), target=Node(id='Ashok', type='person'), type='father'), Relationship(source=Node(id='Virat', type='person'), target=Node(id='Gogi', type='person'), type='mother'), Relationship(source=Node(id='Virat', type='person'), target=Node(id='Sooraj', type='person'), type='rival'), Relationship(source=Node(id='Virat', type='person'), target=Node(id='Jo', type='person'), type='friend'), Relationship(source=Node(id='Virat', type='person'), target=Node(id='Bunny', type='person'), type='friend'), Relationship(source=Node(id='Virat', type='person'), target=Node(id='Amara', type='person'), type='friend'), Relationship(source=Node(id='Virat', type='person'), target=Node(id='Shazia', type='person'), type='crush'), Relationship(source=Node(id='Super V', type='TV series'), target=Node(id='Navar', type='person'), type='villain'), Relationship(source=Node(id='Super V', type='TV series'), target=Node(id=\"Virat's Grandfather\", type='person'), type='family'), Relationship(source=Node(id='Super V', type='TV series'), target=Node(id='Upen Chauhan', type='person'), type='cast'), Relationship(source=Node(id='Super V', type='TV series'), target=Node(id='Samay Raj Thakkar', type='person'), type='cast'), Relationship(source=Node(id='Super V', type='TV series'), target=Node(id='Anil Dutt', type='person'), type='cast'), Relationship(source=Node(id='Super V', type='TV series'), target=Node(id='Rishabh Arora', type='person'), type='cast'), Relationship(source=Node(id='Super V', type='TV series'), target=Node(id='Mallika Singh', type='person'), type='cast'), Relationship(source=Node(id='Super V', type='TV series'), target=Node(id='Nathan Dcosta', type='person'), type='cast'), Relationship(source=Node(id='Super V', type='TV series'), target=Node(id='Ketan Kava', type='person'), type='cast'), Relationship(source=Node(id='Super V', type='TV series'), target=Node(id='Akash Chopra', type='person'), type='cast')]\n"
     ]
    },
    {
     "name": "stderr",
     "output_type": "stream",
     "text": [
      " 76%|██████████████████████████████████████████████████████████████▎                   | 19/25 [08:28<02:03, 20.55s/it]"
     ]
    },
    {
     "name": "stdout",
     "output_type": "stream",
     "text": [
      "[Node(id='Royal Challengers Bangalore', type='team', properties=[Property(key='name', value='Royal Challengers Bangalore'), Property(key='captain', value='Virat Kohli'), Property(key='coach', value='Mike Hesson')]), Node(id='IPL 2021', type='season', properties=[Property(key='year', value='2021')]), Node(id='Virat Kohli', type='person', properties=[]), Node(id='Mike Hesson', type='person', properties=[]), Node(id='Kolkata Knight Riders', type='team', properties=[Property(key='name', value='Kolkata Knight Riders')]), Node(id='AB de Villiers', type='person', properties=[Property(key='retiredDate', value='19 November 2021')])]\n",
      "[Relationship(source=Node(id='IPL 2021', type='season'), target=Node(id='Royal Challengers Bangalore', type='team'), type='participated'), Relationship(source=Node(id='Royal Challengers Bangalore', type='team'), target=Node(id='Virat Kohli', type='person'), type='captainedBy'), Relationship(source=Node(id='Royal Challengers Bangalore', type='team'), target=Node(id='Mike Hesson', type='person'), type='coachedBy'), Relationship(source=Node(id='Royal Challengers Bangalore', type='team'), target=Node(id='AB de Villiers', type='person'), type='player'), Relationship(source=Node(id='Royal Challengers Bangalore', type='team'), target=Node(id='Kolkata Knight Riders', type='team'), type='lostTo')]\n",
      "[Node(id='2011 Cricket World Cup Final', type='event', properties=[Property(key='name', value='2011 Cricket World Cup Final'), Property(key='date', value='2 April 2011'), Property(key='location', value='Wankhede Stadium, Mumbai')]), Node(id='India', type='country', properties=[Property(key='name', value='India')]), Node(id='Sri Lanka', type='country', properties=[Property(key='name', value='Sri Lanka')]), Node(id='Wankhede Stadium', type='stadium', properties=[Property(key='name', value='Wankhede Stadium'), Property(key='location', value='Mumbai')]), Node(id='ICC', type='organization', properties=[Property(key='name', value='International Cricket Council')]), Node(id='One Day International', type='format', properties=[Property(key='name', value='One Day International')]), Node(id='ODI World Cup', type='tournament', properties=[Property(key='name', value='ODI World Cup')]), Node(id='Asian', type='continent', properties=[Property(key='name', value='Asian')]), Node(id='Australia', type='country', properties=[Property(key='name', value='Australia')]), Node(id='West Indies', type='country', properties=[Property(key='name', value='West Indies')]), Node(id='South Africa', type='country', properties=[Property(key='name', value='South Africa')]), Node(id='England', type='country', properties=[Property(key='name', value='England')]), Node(id='Pakistan', type='country', properties=[Property(key='name', value='Pakistan')]), Node(id='Kumar Sangakkara', type='person', properties=[Property(key='name', value='Kumar Sangakkara')]), Node(id='Mahela Jayawardene', type='person', properties=[Property(key='name', value='Mahela Jayawardene')]), Node(id='Thisara Perera', type='person', properties=[Property(key='name', value='Thisara Perera')]), Node(id='Virender Sehwag', type='person', properties=[Property(key='name', value='Virender Sehwag')]), Node(id='Lasith Malinga', type='person', properties=[Property(key='name', value='Lasith Malinga')]), Node(id='Sachin Tendulkar', type='person', properties=[Property(key='name', value='Sachin Tendulkar')]), Node(id='Gautam Gambhir', type='person', properties=[Property(key='name', value='Gautam Gambhir')]), Node(id='Virat Kohli', type='person', properties=[Property(key='name', value='Virat Kohli')]), Node(id='MS Dhoni', type='person', properties=[Property(key='name', value='MS Dhoni')]), Node(id='Yuvraj Singh', type='person', properties=[Property(key='name', value='Yuvraj Singh')]), Node(id='Eden Gardens', type='stadium', properties=[Property(key='name', value='Eden Gardens'), Property(key='location', value='Kolkata')]), Node(id='Kenya', type='country', properties=[Property(key='name', value='Kenya')]), Node(id='Canada', type='country', properties=[Property(key='name', value='Canada')]), Node(id='Ireland', type='country', properties=[Property(key='name', value='Ireland')]), Node(id='Netherlands', type='country', properties=[Property(key='name', value='Netherlands')])]\n",
      "[Relationship(source=Node(id='2011 Cricket World Cup Final', type='event'), target=Node(id=\"2011 Men's Cricket World Cup\", type='tournament'), type='isFinalMatchOf'), Relationship(source=Node(id=\"2011 Men's Cricket World Cup\", type='tournament'), target=Node(id='ICC', type='organization'), type='organizedBy'), Relationship(source=Node(id=\"2011 Men's Cricket World Cup\", type='tournament'), target=Node(id='Indian subcontinent', type='region'), type='playedIn'), Relationship(source=Node(id=\"2011 Men's Cricket World Cup\", type='tournament'), target=Node(id='India', type='country'), type='coHosted'), Relationship(source=Node(id=\"2011 Men's Cricket World Cup\", type='tournament'), target=Node(id='Sri Lanka', type='country'), type='coHosted'), Relationship(source=Node(id=\"2011 Men's Cricket World Cup\", type='tournament'), target=Node(id='Bangladesh', type='country'), type='coHosted'), Relationship(source=Node(id=\"2011 Men's Cricket World Cup\", type='tournament'), target=Node(id='Pakistan', type='country'), type='excludedTeam'), Relationship(source=Node(id='2011 Cricket World Cup Final', type='event'), target=Node(id='India', type='country'), type='competitor'), Relationship(source=Node(id='2011 Cricket World Cup Final', type='event'), target=Node(id='Sri Lanka', type='country'), type='competitor'), Relationship(source=Node(id='2011 Cricket World Cup Final', type='event'), target=Node(id='Wankhede Stadium', type='stadium'), type='playedAt'), Relationship(source=Node(id='Kumar Sangakkara', type='person'), target=Node(id='2011 Cricket World Cup Final', type='event'), type='playedFor'), Relationship(source=Node(id='Mahela Jayawardene', type='person'), target=Node(id='2011 Cricket World Cup Final', type='event'), type='playedFor'), Relationship(source=Node(id='Thisara Perera', type='person'), target=Node(id='2011 Cricket World Cup Final', type='event'), type='playedFor'), Relationship(source=Node(id='Virender Sehwag', type='person'), target=Node(id='2011 Cricket World Cup Final', type='event'), type='playedFor'), Relationship(source=Node(id='Lasith Malinga', type='person'), target=Node(id='2011 Cricket World Cup Final', type='event'), type='playedFor'), Relationship(source=Node(id='Sachin Tendulkar', type='person'), target=Node(id='2011 Cricket World Cup Final', type='event'), type='playedFor'), Relationship(source=Node(id='Gautam Gambhir', type='person'), target=Node(id='2011 Cricket World Cup Final', type='event'), type='playedFor'), Relationship(source=Node(id='Virat Kohli', type='person'), target=Node(id='2011 Cricket World Cup Final', type='event'), type='playedFor'), Relationship(source=Node(id='MS Dhoni', type='person'), target=Node(id='2011 Cricket World Cup Final', type='event'), type='playedFor'), Relationship(source=Node(id='Yuvraj Singh', type='person'), target=Node(id='2011 Cricket World Cup Final', type='event'), type='playedFor'), Relationship(source=Node(id='Gautam Gambhir', type='person'), target=Node(id='2011 Cricket World Cup Final', type='event'), type='scored'), Relationship(source=Node(id='Virat Kohli', type='person'), target=Node(id='2011 Cricket World Cup Final', type='event'), type='scored'), Relationship(source=Node(id='MS Dhoni', type='person'), target=Node(id='2011 Cricket World Cup Final', type='event'), type='scored'), Relationship(source=Node(id='Yuvraj Singh', type='person'), target=Node(id='2011 Cricket World Cup Final', type='event'), type='scored'), Relationship(source=Node(id='MS Dhoni', type='person'), target=Node(id='2011 Cricket World Cup Final', type='event'), type='manOfTheMatch'), Relationship(source=Node(id='Yuvraj Singh', type='person'), target=Node(id=\"2011 Men's Cricket World Cup\", type='tournament'), type='manOfTheTournament'), Relationship(source=Node(id='2011 Cricket World Cup Final', type='event'), target=Node(id='42,000', type='spectators'), type='attendedBy'), Relationship(source=Node(id='2011 Cricket World Cup Final', type='event'), target=Node(id='135 million', type='viewers'), type='watchedBy'), Relationship(source=Node(id=\"2011 Men's Cricket World Cup\", type='tournament'), target=Node(id='Pakistan', type='country'), type='excludedTeam'), Relationship(source=Node(id=\"2011 Men's Cricket World Cup\", type='tournament'), target=Node(id='Kenya', type='country'), type='participatingTeam'), Relationship(source=Node(id=\"2011 Men's Cricket World Cup\", type='tournament'), target=Node(id='Canada', type='country'), type='participatingTeam'), Relationship(source=Node(id=\"2011 Men's Cricket World Cup\", type='tournament'), target=Node(id='Ireland', type='country'), type='participatingTeam'), Relationship(source=Node(id=\"2011 Men's Cricket World Cup\", type='tournament'), target=Node(id='Netherlands', type='country'), type='participatingTeam'), Relationship(source=Node(id='2011 Cricket World Cup Final', type='event'), target=Node(id='Eden Gardens', type='stadium'), type='previousFinalHostedAt'), Relationship(source=Node(id='India', type='country'), target=Node(id='2011 Cricket World Cup Final', type='event'), type='firstCountryToWinTheCricketWorldCupOnTheirOwnGround'), Relationship(source=Node(id='India', type='country'), target=Node(id='2011 Cricket World Cup Final', type='event'), type='firstCountryToWinTheCricketWorldCupInTheirOwnCountry'), Relationship(source=Node(id='India', type='country'), target=Node(id='2011 Cricket World Cup Final', type='event'), type='winner'), Relationship(source=Node(id='Sri Lanka', type='country'), target=Node(id='2011 Cricket World Cup Final', type='event'), type='runnerUp'), Relationship(source=Node(id='India', type='country'), target=Node(id='2011 Cricket World Cup Final', type='event'), type='thirdCountryToWinTheCricketWorldCupMoreThanOnce'), Relationship(source=Node(id='Australia', type='country'), target=Node(id=\"2011 Men's Cricket World Cup\", type='tournament'), type='previousWinner'), Relationship(source=Node(id='West Indies', type='country'), target=Node(id=\"2011 Men's Cricket World Cup\", type='tournament'), type='previousWinner'), Relationship(source=Node(id='South Africa', type='country'), target=Node(id=\"2011 Men's Cricket World Cup\", type='tournament'), type='previousOpponent'), Relationship(source=Node(id='England', type='country'), target=Node(id=\"2011 Men's Cricket World Cup\", type='tournament'), type='previousOpponent'), Relationship(source=Node(id='Pakistan', type='country'), target=Node(id=\"2011 Men's Cricket World Cup\", type='tournament'), type='previousOpponent'), Relationship(source=Node(id='Kumar Sangakkara', type='person'), target=Node(id='Sri Lanka', type='country'), type='captain'), Relationship(source=Node(id='Gautam Gambhir', type='person'), target=Node(id='India', type='country'), type='viceCaptain'), Relationship(source=Node(id='2011 Cricket World Cup Final', type='event'), target=Node(id='Virat Kohli', type='person'), type='dismissed'), Relationship(source=Node(id='2011 Cricket World Cup Final', type='event'), target=Node(id='Gautam Gambhir', type='person'), type='scored'), Relationship(source=Node(id='2011 Cricket World Cup Final', type='event'), target=Node(id='MS Dhoni', type='person'), type='scored'), Relationship(source=Node(id='2011 Cricket World Cup Final', type='event'), target=Node(id='Yuvraj Singh', type='person'), type='scored'), Relationship(source=Node(id='Kumar Sangakkara', type='person'), target=Node(id='2011 Cricket World Cup Final', type='event'), type='scored'), Relationship(source=Node(id='Mahela Jayawardene', type='person'), target=Node(id='2011 Cricket World Cup Final', type='event'), type='scored'), Relationship(source=Node(id='Thisara Perera', type='person'), target=Node(id='2011 Cricket World Cup Final', type='event'), type='scored'), Relationship(source=Node(id=\"2011 Men's Cricket World Cup\", type='tournament'), target=Node(id='India', type='country'), type='previousFinalist'), Relationship(source=Node(id=\"2011 Men's Cricket World Cup\", type='tournament'), target=Node(id='Sri Lanka', type='country'), type='previousFinalist'), Relationship(source=Node(id='India', type='country'), target=Node(id='Sri Lanka', type='country'), type='previousOpponentInWorldCup'), Relationship(source=Node(id='Sri Lanka', type='country'), target=Node(id='India', type='country'), type='previousOpponentInWorldCup'), Relationship(source=Node(id='India', type='country'), target=Node(id='Sri Lanka', type='country'), type='previousOpponentInODI'), Relationship(source=Node(id='Sri Lanka', type='country'), target=Node(id='India', type='country'), type='previousOpponentInODI')]\n"
     ]
    },
    {
     "name": "stderr",
     "output_type": "stream",
     "text": [
      " 80%|█████████████████████████████████████████████████████████████████▌                | 20/25 [09:44<03:04, 36.97s/it]"
     ]
    },
    {
     "name": "stdout",
     "output_type": "stream",
     "text": [
      "[Node(id='Mohammad Amir', type='person', properties=[Property(key='name', value='Mohammad Amir'), Property(key='nationality', value='Pakistani'), Property(key='birthDate', value='13 April 1992'), Property(key='role', value='cricketer'), Property(key='battingHand', value='left'), Property(key='bowlingHand', value='left-arm fast')]), Node(id='Pakistan national cricket team', type='team', properties=[Property(key='name', value='Pakistan national cricket team')]), Node(id='2009 ICC World Twenty20', type='tournament', properties=[Property(key='name', value='2009 ICC World Twenty20')]), Node(id='2017 ICC Champions Trophy', type='tournament', properties=[Property(key='name', value='2017 ICC Champions Trophy')]), Node(id='spot-fixing', type='scandal', properties=[Property(key='name', value='spot-fixing')]), Node(id='Salman Butt', type='person', properties=[Property(key='name', value='Salman Butt')]), Node(id='Mohammad Asif', type='person', properties=[Property(key='name', value='Mohammad Asif')]), Node(id='Chittagong Vikings', type='team', properties=[Property(key='name', value='Chittagong Vikings')]), Node(id='2015 Bangladesh Premier League', type='tournament', properties=[Property(key='name', value='2015 Bangladesh Premier League')]), Node(id='New Zealand', type='country', properties=[Property(key='name', value='New Zealand')]), Node(id='Pakistan Cricket Board', type='organization', properties=[Property(key='name', value='Pakistan Cricket Board')]), Node(id='Test cricket', type='format', properties=[Property(key='name', value='Test cricket')]), Node(id='limited overs cricket', type='format', properties=[Property(key='name', value='limited overs cricket')]), Node(id=\"2024 ICC Men's T20 World Cup\", type='tournament', properties=[Property(key='name', value=\"2024 ICC Men's T20 World Cup\")])]\n",
      "[Relationship(source=Node(id='Mohammad Amir', type='person'), target=Node(id='Pakistan national cricket team', type='team'), type='plays for', properties=[]), Relationship(source=Node(id='Mohammad Amir', type='person'), target=Node(id='2009 ICC World Twenty20', type='tournament'), type='participated in', properties=[Property(key='role', value='player'), Property(key='result', value='winner')]), Relationship(source=Node(id='Mohammad Amir', type='person'), target=Node(id='2017 ICC Champions Trophy', type='tournament'), type='participated in', properties=[Property(key='role', value='player'), Property(key='result', value='winner')]), Relationship(source=Node(id='Mohammad Amir', type='person'), target=Node(id='spot-fixing', type='scandal'), type='involved in', properties=[]), Relationship(source=Node(id='Mohammad Amir', type='person'), target=Node(id='Salman Butt', type='person'), type='involved in', properties=[]), Relationship(source=Node(id='Mohammad Amir', type='person'), target=Node(id='Mohammad Asif', type='person'), type='involved in', properties=[]), Relationship(source=Node(id='Mohammad Amir', type='person'), target=Node(id='Chittagong Vikings', type='team'), type='played for', properties=[Property(key='tournament', value='2015 Bangladesh Premier League')]), Relationship(source=Node(id='Mohammad Amir', type='person'), target=Node(id='New Zealand', type='country'), type='played in', properties=[Property(key='tournament', value='tour of New Zealand in 2016')]), Relationship(source=Node(id='Mohammad Amir', type='person'), target=Node(id='Pakistan Cricket Board', type='organization'), type='contracted by', properties=[Property(key='season', value='2018–19')]), Relationship(source=Node(id='Mohammad Amir', type='person'), target=Node(id='Test cricket', type='format'), type='retired from', properties=[Property(key='date', value='26 July 2019')]), Relationship(source=Node(id='Mohammad Amir', type='person'), target=Node(id='limited overs cricket', type='format'), type='retired from', properties=[Property(key='date', value='17 December 2020')]), Relationship(source=Node(id='Mohammad Amir', type='person'), target=Node(id=\"2024 ICC Men's T20 World Cup\", type='tournament'), type='made himself available for', properties=[Property(key='date', value='24 March 2024')]), Relationship(source=Node(id='Mohammad Amir', type='person'), target=Node(id='Mohammad Amir', type='person'), type='married', properties=[Property(key='spouse', value='Narjis Amir')]), Relationship(source=Node(id='Mohammad Amir', type='person'), target=Node(id='Mohammad Amir', type='person'), type='parent of', properties=[Property(key='child', value='Minsa Amir')]), Relationship(source=Node(id='Mohammad Amir', type='person'), target=Node(id='Mohammad Amir', type='person'), type='parent of', properties=[Property(key='child', value='Zoya Amir')]), Relationship(source=Node(id='Mohammad Amir', type='person'), target=Node(id='Mohammad Amir', type='person'), type='parent of', properties=[Property(key='child', value='Ayra Amir')])]\n"
     ]
    },
    {
     "name": "stderr",
     "output_type": "stream",
     "text": [
      " 84%|████████████████████████████████████████████████████████████████████▉             | 21/25 [10:11<02:16, 34.11s/it]"
     ]
    },
    {
     "name": "stdout",
     "output_type": "stream",
     "text": [
      "[Node(id='Sanju Viswanath Samson', type='person', properties=[Property(key='birthDate', value='11 November 1994'), Property(key='nationality', value='Indian')]), Node(id='Kerala', type='place'), Node(id='Rajasthan Royals', type='cricket team'), Node(id='Indian Premier League', type='cricket league'), Node(id='Wicket-keeper', type='cricket position'), Node(id='batter', type='cricket position'), Node(id='KCA Royals', type='cricket team'), Node(id='Kerala Premier League', type='cricket league'), Node(id=\"President's Cup T20\", type='cricket tournament'), Node(id='right-handed', type='batting style'), Node(id='vice-captain', type='cricket position'), Node(id='Indian U-19 team', type='cricket team'), Node(id='2014 Under-19 Cricket World Cup', type='cricket tournament'), Node(id='2015 T20 international', type='cricket tournament'), Node(id='Zimbabwe', type='country'), Node(id='One Day International', type='cricket format'), Node(id='2021', type='year'), Node(id='Sri Lanka', type='country'), Node(id='Delhi', type='place'), Node(id='Kerala', type='place'), Node(id='2011', type='year'), Node(id='2013', type='year'), Node(id='Rajasthan Royals', type='cricket team'), Node(id='Emerging Player of the Year', type='award'), Node(id='2019–20 Vijay Hazare Trophy', type='cricket tournament'), Node(id='List A cricket', type='cricket format'), Node(id='double-century', type='cricket milestone'), Node(id=\"Sanju Samson's ODI century\", type='cricket milestone'), Node(id='South Africa', type='country'), Node(id='21st December 2023', type='date'), Node(id='Malayali Christian', type='religion'), Node(id='Pulluvila', type='place'), Node(id='Vizhinjam', type='place'), Node(id='Thiruvananthapuram district', type='place'), Node(id='Kerala', type='place'), Node(id='Samson Viswanath', type='person'), Node(id='Delhi Police', type='organization'), Node(id='football', type='sport'), Node(id='Santhosh Trophy', type='football tournament'), Node(id='Ligy Viswanath', type='person'), Node(id='Saly Samson', type='person'), Node(id='Junior cricket', type='cricket level'), Node(id=\"AG's office\", type='organization'), Node(id='North Delhi', type='place'), Node(id='GTB Nagar', type='place'), Node(id='Rosary Senior Secondary School', type='school'), Node(id='Yashpal', type='coach'), Node(id='DL DAV Model School', type='school'), Node(id='Shalimar Bagh', type='place'), Node(id='Delhi U-13 team', type='cricket team'), Node(id='Dhruv Pandove Trophy', type='cricket tournament'), Node(id='Kerala', type='place'), Node(id='Biju George', type='coach'), Node(id='Medical College Ground', type='place'), Node(id=\"St. Joseph's Higher Secondary School\", type='school'), Node(id='Mar Ivanios College', type='college'), Node(id='English literature', type='academic subject'), Node(id='KSCA Inter-State under-13 tournament', type='cricket tournament'), Node(id='player of the tournament', type='award'), Node(id='Vijay Merchant Trophy', type='cricket tournament'), Node(id='Goa', type='place'), Node(id='second-highest run-scorer', type='award'), Node(id='India U-19 team', type='cricket team'), Node(id='2012 ACC Under-19 Asia Cup', type='cricket tournament'), Node(id='Malaysia', type='country'), Node(id='2012 Under-19 Cricket World Cup', type='cricket tournament'), Node(id='vice-captain', type='cricket position'), Node(id='2013 Top End Under-19 Series', type='cricket tournament'), Node(id='Australia', type='country'), Node(id='Youth Test series', type='cricket tournament'), Node(id='Sri Lanka', type='country'), Node(id='2013 ACC Under 19 Asia cup', type='cricket tournament'), Node(id='Pakistan', type='country'), Node(id='BCCI', type='organization'), Node(id='India', type='country'), Node(id='South Africa', type='country'), Node(id='3rd ODI', type='cricket match'), Node(id='three-match series', type='cricket tournament'), Node(id='2019–20 Vijay Hazare Trophy', type='cricket tournament'), Node(id='sixth time', type='frequency'), Node(id='double-century', type='cricket milestone'), Node(id='List A cricket', type='cricket format'), Node(id=\"Sanju Samson's ODI century\", type='cricket milestone'), Node(id='3rd ODI', type='cricket match'), Node(id='South Africa', type='country'), Node(id='21st December 2023', type='date')]\n",
      "[Relationship(source=Node(id='Sanju Viswanath Samson', type='person'), target=Node(id='Kerala', type='place'), type='domestic cricket team'), Relationship(source=Node(id='Sanju Viswanath Samson', type='person'), target=Node(id='Rajasthan Royals', type='cricket team'), type='Indian Premier League team'), Relationship(source=Node(id='Sanju Viswanath Samson', type='person'), target=Node(id='Wicket-keeper', type='cricket position'), type='plays as'), Relationship(source=Node(id='Sanju Viswanath Samson', type='person'), target=Node(id='batter', type='cricket position'), type='plays as'), Relationship(source=Node(id='Sanju Viswanath Samson', type='person'), target=Node(id='KCA Royals', type='cricket team'), type='Kerala Premier League team'), Relationship(source=Node(id='KCA Royals', type='cricket team'), target=Node(id='Kerala Premier League', type='cricket league'), type='participates in'), Relationship(source=Node(id='Sanju Viswanath Samson', type='person'), target=Node(id='Kerala Premier League', type='cricket league'), type='formerly captained KCA Royals team in'), Relationship(source=Node(id='Sanju Viswanath Samson', type='person'), target=Node(id='right-handed', type='batting style'), type='has batting style'), Relationship(source=Node(id='Sanju Viswanath Samson', type='person'), target=Node(id='Indian U-19 team', type='cricket team'), type='was vice-captain of'), Relationship(source=Node(id='Indian U-19 team', type='cricket team'), target=Node(id='2014 Under-19 Cricket World Cup', type='cricket tournament'), type='participated in'), Relationship(source=Node(id='Sanju Viswanath Samson', type='person'), target=Node(id='2015 T20 international', type='cricket tournament'), type='made India debut in'), Relationship(source=Node(id='2015 T20 international', type='cricket tournament'), target=Node(id='Zimbabwe', type='country'), type='played against'), Relationship(source=Node(id='Sanju Viswanath Samson', type='person'), target=Node(id='One Day International', type='cricket format'), type='made ODI debut in'), Relationship(source=Node(id='One Day International', type='cricket format'), target=Node(id='2021', type='year'), type='played in'), Relationship(source=Node(id='One Day International', type='cricket format'), target=Node(id='Sri Lanka', type='country'), type='played against'), Relationship(source=Node(id='Sanju Viswanath Samson', type='person'), target=Node(id='Delhi', type='place'), type='started cricketing career in'), Relationship(source=Node(id='Sanju Viswanath Samson', type='person'), target=Node(id='Kerala', type='place'), type='moved to'), Relationship(source=Node(id='Sanju Viswanath Samson', type='person'), target=Node(id='2011', type='year'), type='made first-class debut in'), Relationship(source=Node(id='2011', type='year'), target=Node(id='Rajasthan Royals', type='cricket team'), type='made Premier League debut for'), Relationship(source=Node(id='Rajasthan Royals', type='cricket team'), target=Node(id='Emerging Player of the Year', type='award'), type='won'), Relationship(source=Node(id='Sanju Viswanath Samson', type='person'), target=Node(id='2019–20 Vijay Hazare Trophy', type='cricket tournament'), type='scored unbeaten 212 in'), Relationship(source=Node(id='2019–20 Vijay Hazare Trophy', type='cricket tournament'), target=Node(id='double-century', type='cricket milestone'), type='scored'), Relationship(source=Node(id='2019–20 Vijay Hazare Trophy', type='cricket tournament'), target=Node(id='List A cricket', type='cricket format'), type='played in'), Relationship(source=Node(id='Sanju Viswanath Samson', type='person'), target=Node(id=\"Sanju Samson's ODI century\", type='cricket milestone'), type='scored debut ODI century in the 3rd ODI in the three-match series against South Africa on'), Relationship(source=Node(id=\"Sanju Samson's ODI century\", type='cricket milestone'), target=Node(id='South Africa', type='country'), type='played against'), Relationship(source=Node(id=\"Sanju Samson's ODI century\", type='cricket milestone'), target=Node(id='21st December 2023', type='date'), type='scored on'), Relationship(source=Node(id='Samson Viswanath', type='person'), target=Node(id='Sanju Viswanath Samson', type='person'), type='father of'), Relationship(source=Node(id='Ligy Viswanath', type='person'), target=Node(id='Sanju Viswanath Samson', type='person'), type='mother of'), Relationship(source=Node(id='Saly Samson', type='person'), target=Node(id='Sanju Viswanath Samson', type='person'), type='brother of'), Relationship(source=Node(id='Saly Samson', type='person'), target=Node(id='Kerala', type='place'), type='represented'), Relationship(source=Node(id='Junior cricket', type='cricket level'), target=Node(id='Kerala', type='place'), type='represented'), Relationship(source=Node(id=\"AG's office\", type='organization'), target=Node(id='Saly Samson', type='person'), type='works in'), Relationship(source=Node(id='Sanju Viswanath Samson', type='person'), target=Node(id='North Delhi', type='place'), type='spent early childhood in'), Relationship(source=Node(id='North Delhi', type='place'), target=Node(id='GTB Nagar', type='place'), type='neighbourhood of'), Relationship(source=Node(id='Sanju Viswanath Samson', type='person'), target=Node(id='Rosary Senior Secondary School', type='school'), type='studied at'), Relationship(source=Node(id='Sanju Viswanath Samson', type='person'), target=Node(id='Yashpal', type='coach'), type='trained under'), Relationship(source=Node(id='Yashpal', type='coach'), target=Node(id='DL DAV Model School', type='school'), type='academy in'), Relationship(source=Node(id='DL DAV Model School', type='school'), target=Node(id='Shalimar Bagh', type='place'), type='located in'), Relationship(source=Node(id='Sanju Viswanath Samson', type='person'), target=Node(id='Delhi U-13 team', type='cricket team'), type=\"didn't make it into\"), Relationship(source=Node(id='Delhi U-13 team', type='cricket team'), target=Node(id='Dhruv Pandove Trophy', type='cricket tournament'), type=\"didn't make it into the team for\"), Relationship(source=Node(id='Samson Viswanath', type='person'), target=Node(id='Delhi Police', type='organization'), type='formerly a police constable at'), Relationship(source=Node(id='Samson Viswanath', type='person'), target=Node(id='football', type='sport'), type='retired football player'), Relationship(source=Node(id='Samson Viswanath', type='person'), target=Node(id='Santhosh Trophy', type='football tournament'), type='represented Delhi in'), Relationship(source=Node(id='Sanju Viswanath Samson', type='person'), target=Node(id='Ligy Viswanath', type='person'), type='father is'), Relationship(source=Node(id='Sanju Viswanath Samson', type='person'), target=Node(id='Saly Samson', type='person'), type='brother is'), Relationship(source=Node(id='Saly Samson', type='person'), target=Node(id='Kerala', type='place'), type='represented'), Relationship(source=Node(id='Saly Samson', type='person'), target=Node(id=\"AG's office\", type='organization'), type='works in'), Relationship(source=Node(id='Sanju Viswanath Samson', type='person'), target=Node(id='Junior cricket', type='cricket level'), type='made an impact in'), Relationship(source=Node(id='Junior cricket', type='cricket level'), target=Node(id='Kerala', type='place'), type='made an impact in'), Relationship(source=Node(id='Junior cricket', type='cricket level'), target=Node(id='Kerala', type='place'), type='represented'), Relationship(source=Node(id='Junior cricket', type='cricket level'), target=Node(id='Kerala', type='place'), type='represented'), Relationship(source=Node(id='Junior cricket', type='cricket level'), target=Node(id='Kerala', type='place'), type='represented'), Relationship(source=Node(id='Junior cricket', type='cricket level'), target=Node(id='Kerala', type='place'), type='represented'), Relationship(source=Node(id='Junior cricket', type='cricket level'), target=Node(id='Kerala', type='place'), type='represented'), Relationship(source=Node(id='Junior cricket', type='cricket level'), target=Node(id='Kerala', type='place'), type='represented'), Relationship(source=Node(id='Junior cricket', type='cricket level'), target=Node(id='Kerala', type='place'), type='represented'), Relationship(source=Node(id='Junior cricket', type='cricket level'), target=Node(id='Kerala', type='place'), type='represented'), Relationship(source=Node(id='Junior cricket', type='cricket level'), target=Node(id='Kerala', type='place'), type='represented')]\n"
     ]
    },
    {
     "name": "stderr",
     "output_type": "stream",
     "text": [
      " 92%|███████████████████████████████████████████████████████████████████████████▍      | 23/25 [11:58<01:19, 39.63s/it]"
     ]
    },
    {
     "name": "stdout",
     "output_type": "stream",
     "text": [
      "[Node(id='Eden Gardens', type='stadium', properties=[Property(key='name', value='Eden Gardens'), Property(key='location', value='Kolkata, India'), Property(key='established', value='1864'), Property(key='capacity', value='68,000'), Property(key='owner', value='Cricket Association of Bengal (CAB)'), Property(key='homeGroundOf', value='Kolkata Knight Riders'), Property(key='headquarters', value='Cricket Association of Bengal')])]\n",
      "[Relationship(source=Node(id='Eden Gardens', type='stadium'), target=Node(id='Kolkata Knight Riders', type='team'), type='homeGroundOf', properties=[]), Relationship(source=Node(id='Eden Gardens', type='stadium'), target=Node(id='Cricket Association of Bengal', type='organization'), type='headquarters', properties=[])]\n"
     ]
    },
    {
     "name": "stderr",
     "output_type": "stream",
     "text": [
      " 96%|██████████████████████████████████████████████████████████████████████████████▋   | 24/25 [12:04<00:29, 29.43s/it]"
     ]
    },
    {
     "name": "stdout",
     "output_type": "stream",
     "text": [
      "[Node(id='ICC World Test Championship', type='tournament', properties=[]), Node(id='2021–2023 ICC World Test Championship', type='tournament', properties=[]), Node(id='final', type='match', properties=[Property(key='winner', value='Australia'), Property(key='marginOfVictory', value='209 runs')]), Node(id='Australia', type='team', properties=[Property(key='tournamentWins', value='1')]), Node(id='India', type='team', properties=[Property(key='tournamentWins', value='0')])]\n",
      "[Relationship(source=Node(id='2021–2023 ICC World Test Championship', type='tournament'), target=Node(id='final', type='match'), type='hasFinal'), Relationship(source=Node(id='final', type='match'), target=Node(id='Australia', type='team'), type='winner'), Relationship(source=Node(id='final', type='match'), target=Node(id='India', type='team'), type='loser'), Relationship(source=Node(id='Australia', type='team'), target=Node(id='ICC World Test Championship', type='tournament'), type='participant'), Relationship(source=Node(id='India', type='team'), target=Node(id='ICC World Test Championship', type='tournament'), type='participant')]\n"
     ]
    },
    {
     "name": "stderr",
     "output_type": "stream",
     "text": [
      "100%|██████████████████████████████████████████████████████████████████████████████████| 25/25 [12:18<00:00, 24.71s/it]"
     ]
    },
    {
     "name": "stdout",
     "output_type": "stream",
     "text": [
      "[Node(id='Indian Premier League', type='event', properties=[Property(key='name', value='Indian Premier League'), Property(key='season', value='14'), Property(key='year', value='2021'), Property(key='sponsor', value='VIVO')]), Node(id='Mumbai Indians', type='team', properties=[Property(key='name', value='Mumbai Indians'), Property(key='defendingChampions', value='true')]), Node(id='Punjab Kings', type='team', properties=[Property(key='name', value='Punjab Kings'), Property(key='previousName', value='Kings XI Punjab')]), Node(id='Board of Control for Cricket in India', type='organization', properties=[Property(key='name', value='Board of Control for Cricket in India'), Property(key='established', value='2007')]), Node(id='Chennai Super Kings', type='team', properties=[Property(key='name', value='Chennai Super Kings')]), Node(id='Kolkata Knight Riders', type='team', properties=[Property(key='name', value='Kolkata Knight Riders')]), Node(id='Ruturaj Gaikwad', type='person', properties=[Property(key='name', value='Ruturaj Gaikwad'), Property(key='runs', value='Most runs in the tournament')]), Node(id='Harshal Patel', type='person', properties=[Property(key='name', value='Harshal Patel'), Property(key='wickets', value='Most wickets in the tournament'), Property(key='award', value='Most Valuable Player')])]\n",
      "[Relationship(source=Node(id='Mumbai Indians', type='team'), target=Node(id='Indian Premier League', type='event'), type='defendingChampion'), Relationship(source=Node(id='Punjab Kings', type='team'), target=Node(id='Indian Premier League', type='event'), type='renamedFrom'), Relationship(source=Node(id='Board of Control for Cricket in India', type='organization'), target=Node(id='Indian Premier League', type='event'), type='establishedBy'), Relationship(source=Node(id='Chennai Super Kings', type='team'), target=Node(id='Kolkata Knight Riders', type='team'), type='defeated'), Relationship(source=Node(id='Ruturaj Gaikwad', type='person'), target=Node(id='Indian Premier League', type='event'), type='topRunScorer'), Relationship(source=Node(id='Harshal Patel', type='person'), target=Node(id='Indian Premier League', type='event'), type='topWicketTaker')]\n"
     ]
    },
    {
     "name": "stderr",
     "output_type": "stream",
     "text": [
      "100%|██████████████████████████████████████████████████████████████████████████████████| 25/25 [12:18<00:00, 29.53s/it]\n"
     ]
    }
   ],
   "source": [
    "\n",
    "\n",
    "for i, d in tqdm(enumerate(documents), total=len(documents)):\n",
    "    extract_and_store_graph(d)"
   ]
  },
  {
   "cell_type": "markdown",
   "id": "b647b481-83fc-4bf5-87c4-d69df052160f",
   "metadata": {},
   "source": [
    "# Specify which node labels should be extracted by the LLM\n",
    "allowed_nodes = [\"Person\", \"Company\", \"Location\", \"Event\", \"Movie\", \"Service\", \"Award\"]\n",
    "\n",
    "for i, d in tqdm(enumerate(documents), total=len(documents)):\n",
    "    extract_and_store_graph(d, allowed_nodes)"
   ]
  },
  {
   "cell_type": "code",
   "execution_count": 48,
   "id": "21dfc7e9-dc52-49e2-94dd-c5fe13aba79f",
   "metadata": {},
   "outputs": [
    {
     "name": "stdout",
     "output_type": "stream",
     "text": [
      "\n",
      "\n",
      "\u001b[1m> Entering new GraphCypherQAChain chain...\u001b[0m\n",
      "Generated Cypher:\n",
      "\u001b[32;1m\u001b[1;3mMATCH (p:person {name: \"Virat Kohli\"})-[:PLAYS_FOR]->(t:team)\n",
      "RETURN t.name\u001b[0m\n",
      "Full Context:\n",
      "\u001b[32;1m\u001b[1;3m[{'t.name': 'Indian national cricket team'}, {'t.name': 'Royal Challengers Bengaluru'}, {'t.name': 'Delhi'}]\u001b[0m\n",
      "\n",
      "\u001b[1m> Finished chain.\u001b[0m\n",
      "\n",
      "\n",
      "\u001b[1m> Entering new GraphCypherQAChain chain...\u001b[0m\n",
      "Generated Cypher:\n",
      "\u001b[32;1m\u001b[1;3m\u001b[0m\n",
      "Full Context:\n",
      "\u001b[32;1m\u001b[1;3m[]\u001b[0m\n",
      "\n",
      "\u001b[1m> Finished chain.\u001b[0m\n"
     ]
    },
    {
     "data": {
      "text/plain": [
       "\"I'm sorry, but I don't have the information about where the ICC T20 World Cup was held.\""
      ]
     },
     "execution_count": 48,
     "metadata": {},
     "output_type": "execute_result"
    }
   ],
   "source": [
    "#Query the knowledge graph in a RAG application\n",
    "from langchain.chains import GraphCypherQAChain\n",
    "\n",
    "graph.refresh_schema()\n",
    "\n",
    "cypher_chain = GraphCypherQAChain.from_llm(\n",
    "    graph=graph,\n",
    "    cypher_llm=llm,\n",
    "    qa_llm=llm,\n",
    "    validate_cypher=True, # Validate relationship directions\n",
    "    verbose=True\n",
    ")\n",
    "#cypher_chain.run(\"When The Walt Disney Company ?\")\n",
    "#cypher_chain.run(\"Who is Virat Kohli ?\")\n",
    "#cypher_chain.run(\"from which country Virat Kohli Played Cricket ?\")\n",
    "#cypher_chain.run(\"What is the age of Virat Kohli?\")\n",
    "#cypher_chain.run(\"What are the awards Virat Kohli received and on which year?\")\n",
    "cypher_chain.run(\"which domestic league Virat Kohli plays for ?\")\n",
    "cypher_chain.run(\"Where ICC T20 world cup held ?\")"
   ]
  },
  {
   "cell_type": "code",
   "execution_count": null,
   "id": "3b15da90-60bc-412c-a519-388a8e6bf884",
   "metadata": {},
   "outputs": [],
   "source": []
  }
 ],
 "metadata": {
  "kernelspec": {
   "display_name": "Python 3 (ipykernel)",
   "language": "python",
   "name": "python3"
  },
  "language_info": {
   "codemirror_mode": {
    "name": "ipython",
    "version": 3
   },
   "file_extension": ".py",
   "mimetype": "text/x-python",
   "name": "python",
   "nbconvert_exporter": "python",
   "pygments_lexer": "ipython3",
   "version": "3.11.7"
  }
 },
 "nbformat": 4,
 "nbformat_minor": 5
}
